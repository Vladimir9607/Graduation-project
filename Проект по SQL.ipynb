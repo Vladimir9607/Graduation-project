{
 "cells": [
  {
   "cell_type": "markdown",
   "metadata": {},
   "source": [
    "# Выпускной проект: Проект по SQL"
   ]
  },
  {
   "cell_type": "markdown",
   "metadata": {},
   "source": [
    "Описание проекта: \n",
    "    \n",
    "Коронавирус застал мир врасплох, изменив привычный порядок вещей. На какое-то время жители городов перестали выходить на улицу, посещать кафе и торговые центры. Зато стало больше времени для книг. Это заметили стартаперы — и бросились создавать приложения для тех, кто любит читать.\n",
    "Ваша компания решила быть на волне и купила крупный сервис для чтения книг по подписке. Ваша первая задача как аналитика — проанализировать базу данных.\n",
    "В ней — информация о книгах, издательствах, авторах, а также пользовательские обзоры книг. Эти данные помогут сформулировать ценностное предложение для нового продукта."
   ]
  },
  {
   "cell_type": "markdown",
   "metadata": {},
   "source": [
    "Описание данных:\n",
    "\n",
    "Таблица books содержит данные о книгах:\n",
    "- book_id — идентификатор книги;\n",
    "- author_id — идентификатор автора;\n",
    "- title — название книги;\n",
    "- num_pages — количество страниц;\n",
    "- publication_date — дата публикации книги;\n",
    "- publisher_id — идентификатор издателя.\n",
    "\n",
    "Таблица authors содержит данные об авторах:\n",
    "- author_id — идентификатор автора;\n",
    "- author — имя автора.\n",
    "\n",
    "Таблица publishers содержит данные об издательствах:\n",
    "- publisher_id — идентификатор издательства;\n",
    "- publisher — название издательства;\n",
    "\n",
    "Таблица ratings содержит данные о пользовательских оценках книг:\n",
    "- rating_id — идентификатор оценки;\n",
    "- book_id — идентификатор книги;\n",
    "- username — имя пользователя, оставившего оценку;\n",
    "- rating — оценка книги.\n",
    "\n",
    "Таблица reviews содержит данные о пользовательских обзорах:\n",
    "- review_id — идентификатор обзора;\n",
    "- book_id — идентификатор книги;\n",
    "- username — имя автора обзора;\n",
    "- text — текст обзора."
   ]
  },
  {
   "cell_type": "code",
   "execution_count": 1,
   "metadata": {},
   "outputs": [],
   "source": [
    "# импортируем библиотеки\n",
    "import pandas as pd\n",
    "from sqlalchemy import text, create_engine"
   ]
  },
  {
   "cell_type": "code",
   "execution_count": 2,
   "metadata": {},
   "outputs": [],
   "source": [
    "# устанавливаем параметры\n",
    "db_config = {'user': 'praktikum_student', # имя пользователя\n",
    "'pwd': 'Sdf4$2;d-d30pp', # пароль\n",
    "'host': 'rc1b-wcoijxj3yxfsf3fs.mdb.yandexcloud.net',\n",
    "'port': 6432, # порт подключения\n",
    "'db': 'data-analyst-final-project-db'} # название базы данных\n",
    "connection_string = 'postgresql://{user}:{pwd}@{host}:{port}/{db}'.format(**db_config)"
   ]
  },
  {
   "cell_type": "code",
   "execution_count": 3,
   "metadata": {},
   "outputs": [],
   "source": [
    "# сохраняем коннектор\n",
    "engine = create_engine(connection_string, connect_args={'sslmode':'require'})"
   ]
  },
  {
   "cell_type": "markdown",
   "metadata": {},
   "source": [
    "### Задания:\n",
    "Посчитайте, сколько книг вышло после 1 января 2000 года;\n",
    "\n",
    "Для каждой книги посчитайте количество обзоров и среднюю оценку;\n",
    "\n",
    "Определите издательство, которое выпустило наибольшее число книг толще 50 страниц — так вы исключите из анализа брошюры;\n",
    "\n",
    "Определите автора с самой высокой средней оценкой книг — учитывайте только книги с 50 и более оценками;\n",
    "\n",
    "Посчитайте среднее количество обзоров от пользователей, которые поставили больше 48 оценок."
   ]
  },
  {
   "cell_type": "markdown",
   "metadata": {},
   "source": [
    "#### Посчитайте, сколько книг вышло после 1 января 2000 года"
   ]
  },
  {
   "cell_type": "markdown",
   "metadata": {},
   "source": [
    "Выведем первые 5 строк"
   ]
  },
  {
   "cell_type": "code",
   "execution_count": 4,
   "metadata": {},
   "outputs": [
    {
     "data": {
      "text/html": [
       "<div>\n",
       "<style scoped>\n",
       "    .dataframe tbody tr th:only-of-type {\n",
       "        vertical-align: middle;\n",
       "    }\n",
       "\n",
       "    .dataframe tbody tr th {\n",
       "        vertical-align: top;\n",
       "    }\n",
       "\n",
       "    .dataframe thead th {\n",
       "        text-align: right;\n",
       "    }\n",
       "</style>\n",
       "<table border=\"1\" class=\"dataframe\">\n",
       "  <thead>\n",
       "    <tr style=\"text-align: right;\">\n",
       "      <th></th>\n",
       "      <th>book_id</th>\n",
       "      <th>author_id</th>\n",
       "      <th>title</th>\n",
       "      <th>num_pages</th>\n",
       "      <th>publication_date</th>\n",
       "      <th>publisher_id</th>\n",
       "    </tr>\n",
       "  </thead>\n",
       "  <tbody>\n",
       "    <tr>\n",
       "      <th>0</th>\n",
       "      <td>1</td>\n",
       "      <td>546</td>\n",
       "      <td>'Salem's Lot</td>\n",
       "      <td>594</td>\n",
       "      <td>2005-11-01</td>\n",
       "      <td>93</td>\n",
       "    </tr>\n",
       "    <tr>\n",
       "      <th>1</th>\n",
       "      <td>2</td>\n",
       "      <td>465</td>\n",
       "      <td>1 000 Places to See Before You Die</td>\n",
       "      <td>992</td>\n",
       "      <td>2003-05-22</td>\n",
       "      <td>336</td>\n",
       "    </tr>\n",
       "    <tr>\n",
       "      <th>2</th>\n",
       "      <td>3</td>\n",
       "      <td>407</td>\n",
       "      <td>13 Little Blue Envelopes (Little Blue Envelope...</td>\n",
       "      <td>322</td>\n",
       "      <td>2010-12-21</td>\n",
       "      <td>135</td>\n",
       "    </tr>\n",
       "    <tr>\n",
       "      <th>3</th>\n",
       "      <td>4</td>\n",
       "      <td>82</td>\n",
       "      <td>1491: New Revelations of the Americas Before C...</td>\n",
       "      <td>541</td>\n",
       "      <td>2006-10-10</td>\n",
       "      <td>309</td>\n",
       "    </tr>\n",
       "    <tr>\n",
       "      <th>4</th>\n",
       "      <td>5</td>\n",
       "      <td>125</td>\n",
       "      <td>1776</td>\n",
       "      <td>386</td>\n",
       "      <td>2006-07-04</td>\n",
       "      <td>268</td>\n",
       "    </tr>\n",
       "  </tbody>\n",
       "</table>\n",
       "</div>"
      ],
      "text/plain": [
       "   book_id  author_id                                              title  \\\n",
       "0        1        546                                       'Salem's Lot   \n",
       "1        2        465                 1 000 Places to See Before You Die   \n",
       "2        3        407  13 Little Blue Envelopes (Little Blue Envelope...   \n",
       "3        4         82  1491: New Revelations of the Americas Before C...   \n",
       "4        5        125                                               1776   \n",
       "\n",
       "   num_pages publication_date  publisher_id  \n",
       "0        594       2005-11-01            93  \n",
       "1        992       2003-05-22           336  \n",
       "2        322       2010-12-21           135  \n",
       "3        541       2006-10-10           309  \n",
       "4        386       2006-07-04           268  "
      ]
     },
     "execution_count": 4,
     "metadata": {},
     "output_type": "execute_result"
    }
   ],
   "source": [
    "# чтобы выполнить SQL-запрос, используем Pandas\n",
    "query = '''SELECT * FROM books LIMIT 5'''\n",
    "con=engine.connect()\n",
    "pd.io.sql.read_sql(sql=text(query), con = con)"
   ]
  },
  {
   "cell_type": "markdown",
   "metadata": {},
   "source": [
    "Выведем те, которые по дате публикации вышли после 01.01.2020"
   ]
  },
  {
   "cell_type": "code",
   "execution_count": 5,
   "metadata": {},
   "outputs": [
    {
     "data": {
      "text/html": [
       "<div>\n",
       "<style scoped>\n",
       "    .dataframe tbody tr th:only-of-type {\n",
       "        vertical-align: middle;\n",
       "    }\n",
       "\n",
       "    .dataframe tbody tr th {\n",
       "        vertical-align: top;\n",
       "    }\n",
       "\n",
       "    .dataframe thead th {\n",
       "        text-align: right;\n",
       "    }\n",
       "</style>\n",
       "<table border=\"1\" class=\"dataframe\">\n",
       "  <thead>\n",
       "    <tr style=\"text-align: right;\">\n",
       "      <th></th>\n",
       "      <th>book_id</th>\n",
       "      <th>title</th>\n",
       "      <th>publication_date</th>\n",
       "    </tr>\n",
       "  </thead>\n",
       "  <tbody>\n",
       "    <tr>\n",
       "      <th>0</th>\n",
       "      <td>1</td>\n",
       "      <td>'Salem's Lot</td>\n",
       "      <td>2005-11-01</td>\n",
       "    </tr>\n",
       "    <tr>\n",
       "      <th>1</th>\n",
       "      <td>2</td>\n",
       "      <td>1 000 Places to See Before You Die</td>\n",
       "      <td>2003-05-22</td>\n",
       "    </tr>\n",
       "    <tr>\n",
       "      <th>2</th>\n",
       "      <td>3</td>\n",
       "      <td>13 Little Blue Envelopes (Little Blue Envelope...</td>\n",
       "      <td>2010-12-21</td>\n",
       "    </tr>\n",
       "    <tr>\n",
       "      <th>3</th>\n",
       "      <td>4</td>\n",
       "      <td>1491: New Revelations of the Americas Before C...</td>\n",
       "      <td>2006-10-10</td>\n",
       "    </tr>\n",
       "    <tr>\n",
       "      <th>4</th>\n",
       "      <td>5</td>\n",
       "      <td>1776</td>\n",
       "      <td>2006-07-04</td>\n",
       "    </tr>\n",
       "    <tr>\n",
       "      <th>...</th>\n",
       "      <td>...</td>\n",
       "      <td>...</td>\n",
       "      <td>...</td>\n",
       "    </tr>\n",
       "    <tr>\n",
       "      <th>816</th>\n",
       "      <td>994</td>\n",
       "      <td>World War Z: An Oral History of the Zombie War</td>\n",
       "      <td>2006-09-12</td>\n",
       "    </tr>\n",
       "    <tr>\n",
       "      <th>817</th>\n",
       "      <td>996</td>\n",
       "      <td>Wyrd Sisters (Discworld  #6; Witches #2)</td>\n",
       "      <td>2001-02-06</td>\n",
       "    </tr>\n",
       "    <tr>\n",
       "      <th>818</th>\n",
       "      <td>998</td>\n",
       "      <td>Year of Wonders</td>\n",
       "      <td>2002-04-30</td>\n",
       "    </tr>\n",
       "    <tr>\n",
       "      <th>819</th>\n",
       "      <td>999</td>\n",
       "      <td>You Suck (A Love Story  #2)</td>\n",
       "      <td>2007-01-16</td>\n",
       "    </tr>\n",
       "    <tr>\n",
       "      <th>820</th>\n",
       "      <td>1000</td>\n",
       "      <td>Zen and the Art of Motorcycle Maintenance: An ...</td>\n",
       "      <td>2006-04-25</td>\n",
       "    </tr>\n",
       "  </tbody>\n",
       "</table>\n",
       "<p>821 rows × 3 columns</p>\n",
       "</div>"
      ],
      "text/plain": [
       "     book_id                                              title  \\\n",
       "0          1                                       'Salem's Lot   \n",
       "1          2                 1 000 Places to See Before You Die   \n",
       "2          3  13 Little Blue Envelopes (Little Blue Envelope...   \n",
       "3          4  1491: New Revelations of the Americas Before C...   \n",
       "4          5                                               1776   \n",
       "..       ...                                                ...   \n",
       "816      994     World War Z: An Oral History of the Zombie War   \n",
       "817      996           Wyrd Sisters (Discworld  #6; Witches #2)   \n",
       "818      998                                    Year of Wonders   \n",
       "819      999                        You Suck (A Love Story  #2)   \n",
       "820     1000  Zen and the Art of Motorcycle Maintenance: An ...   \n",
       "\n",
       "    publication_date  \n",
       "0         2005-11-01  \n",
       "1         2003-05-22  \n",
       "2         2010-12-21  \n",
       "3         2006-10-10  \n",
       "4         2006-07-04  \n",
       "..               ...  \n",
       "816       2006-09-12  \n",
       "817       2001-02-06  \n",
       "818       2002-04-30  \n",
       "819       2007-01-16  \n",
       "820       2006-04-25  \n",
       "\n",
       "[821 rows x 3 columns]"
      ]
     },
     "execution_count": 5,
     "metadata": {},
     "output_type": "execute_result"
    }
   ],
   "source": [
    "query = '''SELECT book_id, title, publication_date\n",
    "FROM books \n",
    "WHERE publication_date >= '2000-01-01';'''\n",
    "con=engine.connect()\n",
    "pd.io.sql.read_sql(sql=text(query), con = con)"
   ]
  },
  {
   "cell_type": "markdown",
   "metadata": {},
   "source": [
    "821 строчка, получается 821 книга, выведем только количество книг"
   ]
  },
  {
   "cell_type": "code",
   "execution_count": 6,
   "metadata": {},
   "outputs": [
    {
     "data": {
      "text/html": [
       "<div>\n",
       "<style scoped>\n",
       "    .dataframe tbody tr th:only-of-type {\n",
       "        vertical-align: middle;\n",
       "    }\n",
       "\n",
       "    .dataframe tbody tr th {\n",
       "        vertical-align: top;\n",
       "    }\n",
       "\n",
       "    .dataframe thead th {\n",
       "        text-align: right;\n",
       "    }\n",
       "</style>\n",
       "<table border=\"1\" class=\"dataframe\">\n",
       "  <thead>\n",
       "    <tr style=\"text-align: right;\">\n",
       "      <th></th>\n",
       "      <th>count_books</th>\n",
       "    </tr>\n",
       "  </thead>\n",
       "  <tbody>\n",
       "    <tr>\n",
       "      <th>0</th>\n",
       "      <td>821</td>\n",
       "    </tr>\n",
       "  </tbody>\n",
       "</table>\n",
       "</div>"
      ],
      "text/plain": [
       "   count_books\n",
       "0          821"
      ]
     },
     "execution_count": 6,
     "metadata": {},
     "output_type": "execute_result"
    }
   ],
   "source": [
    "query = '''SELECT \n",
    "COUNT(book_id) as count_books\n",
    "FROM books\n",
    "WHERE publication_date >= '2000-01-01';'''\n",
    "con=engine.connect()\n",
    "pd.io.sql.read_sql(sql=text(query), con = con)"
   ]
  },
  {
   "cell_type": "markdown",
   "metadata": {},
   "source": [
    "821 книга вышла после 1 января 2000 года."
   ]
  },
  {
   "cell_type": "markdown",
   "metadata": {},
   "source": [
    "#### Для каждой книги посчитайте количество обзоров и среднюю оценку"
   ]
  },
  {
   "cell_type": "markdown",
   "metadata": {},
   "source": [
    "Понадобятся таблицы books, ratings, reviews"
   ]
  },
  {
   "cell_type": "code",
   "execution_count": 7,
   "metadata": {},
   "outputs": [
    {
     "data": {
      "text/html": [
       "<div>\n",
       "<style scoped>\n",
       "    .dataframe tbody tr th:only-of-type {\n",
       "        vertical-align: middle;\n",
       "    }\n",
       "\n",
       "    .dataframe tbody tr th {\n",
       "        vertical-align: top;\n",
       "    }\n",
       "\n",
       "    .dataframe thead th {\n",
       "        text-align: right;\n",
       "    }\n",
       "</style>\n",
       "<table border=\"1\" class=\"dataframe\">\n",
       "  <thead>\n",
       "    <tr style=\"text-align: right;\">\n",
       "      <th></th>\n",
       "      <th>book_id</th>\n",
       "      <th>author_id</th>\n",
       "      <th>title</th>\n",
       "      <th>num_pages</th>\n",
       "      <th>publication_date</th>\n",
       "      <th>publisher_id</th>\n",
       "    </tr>\n",
       "  </thead>\n",
       "  <tbody>\n",
       "    <tr>\n",
       "      <th>0</th>\n",
       "      <td>1</td>\n",
       "      <td>546</td>\n",
       "      <td>'Salem's Lot</td>\n",
       "      <td>594</td>\n",
       "      <td>2005-11-01</td>\n",
       "      <td>93</td>\n",
       "    </tr>\n",
       "    <tr>\n",
       "      <th>1</th>\n",
       "      <td>2</td>\n",
       "      <td>465</td>\n",
       "      <td>1 000 Places to See Before You Die</td>\n",
       "      <td>992</td>\n",
       "      <td>2003-05-22</td>\n",
       "      <td>336</td>\n",
       "    </tr>\n",
       "    <tr>\n",
       "      <th>2</th>\n",
       "      <td>3</td>\n",
       "      <td>407</td>\n",
       "      <td>13 Little Blue Envelopes (Little Blue Envelope...</td>\n",
       "      <td>322</td>\n",
       "      <td>2010-12-21</td>\n",
       "      <td>135</td>\n",
       "    </tr>\n",
       "    <tr>\n",
       "      <th>3</th>\n",
       "      <td>4</td>\n",
       "      <td>82</td>\n",
       "      <td>1491: New Revelations of the Americas Before C...</td>\n",
       "      <td>541</td>\n",
       "      <td>2006-10-10</td>\n",
       "      <td>309</td>\n",
       "    </tr>\n",
       "    <tr>\n",
       "      <th>4</th>\n",
       "      <td>5</td>\n",
       "      <td>125</td>\n",
       "      <td>1776</td>\n",
       "      <td>386</td>\n",
       "      <td>2006-07-04</td>\n",
       "      <td>268</td>\n",
       "    </tr>\n",
       "  </tbody>\n",
       "</table>\n",
       "</div>"
      ],
      "text/plain": [
       "   book_id  author_id                                              title  \\\n",
       "0        1        546                                       'Salem's Lot   \n",
       "1        2        465                 1 000 Places to See Before You Die   \n",
       "2        3        407  13 Little Blue Envelopes (Little Blue Envelope...   \n",
       "3        4         82  1491: New Revelations of the Americas Before C...   \n",
       "4        5        125                                               1776   \n",
       "\n",
       "   num_pages publication_date  publisher_id  \n",
       "0        594       2005-11-01            93  \n",
       "1        992       2003-05-22           336  \n",
       "2        322       2010-12-21           135  \n",
       "3        541       2006-10-10           309  \n",
       "4        386       2006-07-04           268  "
      ]
     },
     "execution_count": 7,
     "metadata": {},
     "output_type": "execute_result"
    }
   ],
   "source": [
    "query = '''SELECT * FROM books LIMIT 5'''\n",
    "con=engine.connect()\n",
    "pd.io.sql.read_sql(sql=text(query), con = con)"
   ]
  },
  {
   "cell_type": "code",
   "execution_count": 8,
   "metadata": {},
   "outputs": [
    {
     "data": {
      "text/html": [
       "<div>\n",
       "<style scoped>\n",
       "    .dataframe tbody tr th:only-of-type {\n",
       "        vertical-align: middle;\n",
       "    }\n",
       "\n",
       "    .dataframe tbody tr th {\n",
       "        vertical-align: top;\n",
       "    }\n",
       "\n",
       "    .dataframe thead th {\n",
       "        text-align: right;\n",
       "    }\n",
       "</style>\n",
       "<table border=\"1\" class=\"dataframe\">\n",
       "  <thead>\n",
       "    <tr style=\"text-align: right;\">\n",
       "      <th></th>\n",
       "      <th>rating_id</th>\n",
       "      <th>book_id</th>\n",
       "      <th>username</th>\n",
       "      <th>rating</th>\n",
       "    </tr>\n",
       "  </thead>\n",
       "  <tbody>\n",
       "    <tr>\n",
       "      <th>0</th>\n",
       "      <td>1</td>\n",
       "      <td>1</td>\n",
       "      <td>ryanfranco</td>\n",
       "      <td>4</td>\n",
       "    </tr>\n",
       "    <tr>\n",
       "      <th>1</th>\n",
       "      <td>2</td>\n",
       "      <td>1</td>\n",
       "      <td>grantpatricia</td>\n",
       "      <td>2</td>\n",
       "    </tr>\n",
       "    <tr>\n",
       "      <th>2</th>\n",
       "      <td>3</td>\n",
       "      <td>1</td>\n",
       "      <td>brandtandrea</td>\n",
       "      <td>5</td>\n",
       "    </tr>\n",
       "    <tr>\n",
       "      <th>3</th>\n",
       "      <td>4</td>\n",
       "      <td>2</td>\n",
       "      <td>lorichen</td>\n",
       "      <td>3</td>\n",
       "    </tr>\n",
       "    <tr>\n",
       "      <th>4</th>\n",
       "      <td>5</td>\n",
       "      <td>2</td>\n",
       "      <td>mariokeller</td>\n",
       "      <td>2</td>\n",
       "    </tr>\n",
       "  </tbody>\n",
       "</table>\n",
       "</div>"
      ],
      "text/plain": [
       "   rating_id  book_id       username  rating\n",
       "0          1        1     ryanfranco       4\n",
       "1          2        1  grantpatricia       2\n",
       "2          3        1   brandtandrea       5\n",
       "3          4        2       lorichen       3\n",
       "4          5        2    mariokeller       2"
      ]
     },
     "execution_count": 8,
     "metadata": {},
     "output_type": "execute_result"
    }
   ],
   "source": [
    "query = '''SELECT * FROM ratings LIMIT 5'''\n",
    "con=engine.connect()\n",
    "pd.io.sql.read_sql(sql=text(query), con = con)"
   ]
  },
  {
   "cell_type": "code",
   "execution_count": 9,
   "metadata": {},
   "outputs": [
    {
     "data": {
      "text/html": [
       "<div>\n",
       "<style scoped>\n",
       "    .dataframe tbody tr th:only-of-type {\n",
       "        vertical-align: middle;\n",
       "    }\n",
       "\n",
       "    .dataframe tbody tr th {\n",
       "        vertical-align: top;\n",
       "    }\n",
       "\n",
       "    .dataframe thead th {\n",
       "        text-align: right;\n",
       "    }\n",
       "</style>\n",
       "<table border=\"1\" class=\"dataframe\">\n",
       "  <thead>\n",
       "    <tr style=\"text-align: right;\">\n",
       "      <th></th>\n",
       "      <th>review_id</th>\n",
       "      <th>book_id</th>\n",
       "      <th>username</th>\n",
       "      <th>text</th>\n",
       "    </tr>\n",
       "  </thead>\n",
       "  <tbody>\n",
       "    <tr>\n",
       "      <th>0</th>\n",
       "      <td>1</td>\n",
       "      <td>1</td>\n",
       "      <td>brandtandrea</td>\n",
       "      <td>Mention society tell send professor analysis. ...</td>\n",
       "    </tr>\n",
       "    <tr>\n",
       "      <th>1</th>\n",
       "      <td>2</td>\n",
       "      <td>1</td>\n",
       "      <td>ryanfranco</td>\n",
       "      <td>Foot glass pretty audience hit themselves. Amo...</td>\n",
       "    </tr>\n",
       "    <tr>\n",
       "      <th>2</th>\n",
       "      <td>3</td>\n",
       "      <td>2</td>\n",
       "      <td>lorichen</td>\n",
       "      <td>Listen treat keep worry. Miss husband tax but ...</td>\n",
       "    </tr>\n",
       "    <tr>\n",
       "      <th>3</th>\n",
       "      <td>4</td>\n",
       "      <td>3</td>\n",
       "      <td>johnsonamanda</td>\n",
       "      <td>Finally month interesting blue could nature cu...</td>\n",
       "    </tr>\n",
       "    <tr>\n",
       "      <th>4</th>\n",
       "      <td>5</td>\n",
       "      <td>3</td>\n",
       "      <td>scotttamara</td>\n",
       "      <td>Nation purpose heavy give wait song will. List...</td>\n",
       "    </tr>\n",
       "  </tbody>\n",
       "</table>\n",
       "</div>"
      ],
      "text/plain": [
       "   review_id  book_id       username  \\\n",
       "0          1        1   brandtandrea   \n",
       "1          2        1     ryanfranco   \n",
       "2          3        2       lorichen   \n",
       "3          4        3  johnsonamanda   \n",
       "4          5        3    scotttamara   \n",
       "\n",
       "                                                text  \n",
       "0  Mention society tell send professor analysis. ...  \n",
       "1  Foot glass pretty audience hit themselves. Amo...  \n",
       "2  Listen treat keep worry. Miss husband tax but ...  \n",
       "3  Finally month interesting blue could nature cu...  \n",
       "4  Nation purpose heavy give wait song will. List...  "
      ]
     },
     "execution_count": 9,
     "metadata": {},
     "output_type": "execute_result"
    }
   ],
   "source": [
    "query = '''SELECT * FROM reviews LIMIT 5'''\n",
    "con=engine.connect()\n",
    "pd.io.sql.read_sql(sql=text(query), con = con)"
   ]
  },
  {
   "cell_type": "markdown",
   "metadata": {},
   "source": [
    "Для начала попробуем обьеденить books, ratings, reviews, и выведем столбцы books, book_id, review_id, rating"
   ]
  },
  {
   "cell_type": "code",
   "execution_count": 10,
   "metadata": {},
   "outputs": [
    {
     "data": {
      "text/html": [
       "<div>\n",
       "<style scoped>\n",
       "    .dataframe tbody tr th:only-of-type {\n",
       "        vertical-align: middle;\n",
       "    }\n",
       "\n",
       "    .dataframe tbody tr th {\n",
       "        vertical-align: top;\n",
       "    }\n",
       "\n",
       "    .dataframe thead th {\n",
       "        text-align: right;\n",
       "    }\n",
       "</style>\n",
       "<table border=\"1\" class=\"dataframe\">\n",
       "  <thead>\n",
       "    <tr style=\"text-align: right;\">\n",
       "      <th></th>\n",
       "      <th>title</th>\n",
       "      <th>book_id</th>\n",
       "      <th>review_id</th>\n",
       "      <th>rating</th>\n",
       "    </tr>\n",
       "  </thead>\n",
       "  <tbody>\n",
       "    <tr>\n",
       "      <th>0</th>\n",
       "      <td>'Salem's Lot</td>\n",
       "      <td>1</td>\n",
       "      <td>2.0</td>\n",
       "      <td>4</td>\n",
       "    </tr>\n",
       "    <tr>\n",
       "      <th>1</th>\n",
       "      <td>'Salem's Lot</td>\n",
       "      <td>1</td>\n",
       "      <td>1.0</td>\n",
       "      <td>4</td>\n",
       "    </tr>\n",
       "    <tr>\n",
       "      <th>2</th>\n",
       "      <td>'Salem's Lot</td>\n",
       "      <td>1</td>\n",
       "      <td>2.0</td>\n",
       "      <td>2</td>\n",
       "    </tr>\n",
       "    <tr>\n",
       "      <th>3</th>\n",
       "      <td>'Salem's Lot</td>\n",
       "      <td>1</td>\n",
       "      <td>1.0</td>\n",
       "      <td>2</td>\n",
       "    </tr>\n",
       "    <tr>\n",
       "      <th>4</th>\n",
       "      <td>'Salem's Lot</td>\n",
       "      <td>1</td>\n",
       "      <td>2.0</td>\n",
       "      <td>5</td>\n",
       "    </tr>\n",
       "    <tr>\n",
       "      <th>...</th>\n",
       "      <td>...</td>\n",
       "      <td>...</td>\n",
       "      <td>...</td>\n",
       "      <td>...</td>\n",
       "    </tr>\n",
       "    <tr>\n",
       "      <th>26175</th>\n",
       "      <td>Zen and the Art of Motorcycle Maintenance: An ...</td>\n",
       "      <td>1000</td>\n",
       "      <td>2790.0</td>\n",
       "      <td>2</td>\n",
       "    </tr>\n",
       "    <tr>\n",
       "      <th>26176</th>\n",
       "      <td>Zen and the Art of Motorcycle Maintenance: An ...</td>\n",
       "      <td>1000</td>\n",
       "      <td>2793.0</td>\n",
       "      <td>5</td>\n",
       "    </tr>\n",
       "    <tr>\n",
       "      <th>26177</th>\n",
       "      <td>Zen and the Art of Motorcycle Maintenance: An ...</td>\n",
       "      <td>1000</td>\n",
       "      <td>2792.0</td>\n",
       "      <td>5</td>\n",
       "    </tr>\n",
       "    <tr>\n",
       "      <th>26178</th>\n",
       "      <td>Zen and the Art of Motorcycle Maintenance: An ...</td>\n",
       "      <td>1000</td>\n",
       "      <td>2791.0</td>\n",
       "      <td>5</td>\n",
       "    </tr>\n",
       "    <tr>\n",
       "      <th>26179</th>\n",
       "      <td>Zen and the Art of Motorcycle Maintenance: An ...</td>\n",
       "      <td>1000</td>\n",
       "      <td>2790.0</td>\n",
       "      <td>5</td>\n",
       "    </tr>\n",
       "  </tbody>\n",
       "</table>\n",
       "<p>26180 rows × 4 columns</p>\n",
       "</div>"
      ],
      "text/plain": [
       "                                                   title  book_id  review_id  \\\n",
       "0                                           'Salem's Lot        1        2.0   \n",
       "1                                           'Salem's Lot        1        1.0   \n",
       "2                                           'Salem's Lot        1        2.0   \n",
       "3                                           'Salem's Lot        1        1.0   \n",
       "4                                           'Salem's Lot        1        2.0   \n",
       "...                                                  ...      ...        ...   \n",
       "26175  Zen and the Art of Motorcycle Maintenance: An ...     1000     2790.0   \n",
       "26176  Zen and the Art of Motorcycle Maintenance: An ...     1000     2793.0   \n",
       "26177  Zen and the Art of Motorcycle Maintenance: An ...     1000     2792.0   \n",
       "26178  Zen and the Art of Motorcycle Maintenance: An ...     1000     2791.0   \n",
       "26179  Zen and the Art of Motorcycle Maintenance: An ...     1000     2790.0   \n",
       "\n",
       "       rating  \n",
       "0           4  \n",
       "1           4  \n",
       "2           2  \n",
       "3           2  \n",
       "4           5  \n",
       "...       ...  \n",
       "26175       2  \n",
       "26176       5  \n",
       "26177       5  \n",
       "26178       5  \n",
       "26179       5  \n",
       "\n",
       "[26180 rows x 4 columns]"
      ]
     },
     "execution_count": 10,
     "metadata": {},
     "output_type": "execute_result"
    }
   ],
   "source": [
    "# чтобы выполнить SQL-запрос, используем Pandas\n",
    "query = '''SELECT books.title, books.book_id, reviews.review_id, ratings.rating\n",
    "FROM books\n",
    "INNER JOIN ratings ON ratings.book_id = books.book_id\n",
    "LEFT JOIN reviews ON reviews.book_id = books.book_id;'''\n",
    "con=engine.connect()\n",
    "pd.io.sql.read_sql(sql=text(query), con = con)"
   ]
  },
  {
   "cell_type": "markdown",
   "metadata": {},
   "source": [
    "Получилась таблица с нужными столбцами, осталось подсчитать количество обзоров и среднюю оценку"
   ]
  },
  {
   "cell_type": "code",
   "execution_count": 11,
   "metadata": {},
   "outputs": [
    {
     "data": {
      "text/html": [
       "<div>\n",
       "<style scoped>\n",
       "    .dataframe tbody tr th:only-of-type {\n",
       "        vertical-align: middle;\n",
       "    }\n",
       "\n",
       "    .dataframe tbody tr th {\n",
       "        vertical-align: top;\n",
       "    }\n",
       "\n",
       "    .dataframe thead th {\n",
       "        text-align: right;\n",
       "    }\n",
       "</style>\n",
       "<table border=\"1\" class=\"dataframe\">\n",
       "  <thead>\n",
       "    <tr style=\"text-align: right;\">\n",
       "      <th></th>\n",
       "      <th>title</th>\n",
       "      <th>book_id</th>\n",
       "      <th>count</th>\n",
       "      <th>avg</th>\n",
       "    </tr>\n",
       "  </thead>\n",
       "  <tbody>\n",
       "    <tr>\n",
       "      <th>0</th>\n",
       "      <td>Twilight (Twilight  #1)</td>\n",
       "      <td>948</td>\n",
       "      <td>7</td>\n",
       "      <td>3.662500</td>\n",
       "    </tr>\n",
       "    <tr>\n",
       "      <th>1</th>\n",
       "      <td>Water for Elephants</td>\n",
       "      <td>963</td>\n",
       "      <td>6</td>\n",
       "      <td>3.977273</td>\n",
       "    </tr>\n",
       "    <tr>\n",
       "      <th>2</th>\n",
       "      <td>The Glass Castle</td>\n",
       "      <td>734</td>\n",
       "      <td>6</td>\n",
       "      <td>4.206897</td>\n",
       "    </tr>\n",
       "    <tr>\n",
       "      <th>3</th>\n",
       "      <td>Harry Potter and the Prisoner of Azkaban (Harr...</td>\n",
       "      <td>302</td>\n",
       "      <td>6</td>\n",
       "      <td>4.414634</td>\n",
       "    </tr>\n",
       "    <tr>\n",
       "      <th>4</th>\n",
       "      <td>The Curious Incident of the Dog in the Night-Time</td>\n",
       "      <td>695</td>\n",
       "      <td>6</td>\n",
       "      <td>4.081081</td>\n",
       "    </tr>\n",
       "    <tr>\n",
       "      <th>...</th>\n",
       "      <td>...</td>\n",
       "      <td>...</td>\n",
       "      <td>...</td>\n",
       "      <td>...</td>\n",
       "    </tr>\n",
       "    <tr>\n",
       "      <th>995</th>\n",
       "      <td>Anne Rice's The Vampire Lestat: A Graphic Novel</td>\n",
       "      <td>83</td>\n",
       "      <td>0</td>\n",
       "      <td>3.666667</td>\n",
       "    </tr>\n",
       "    <tr>\n",
       "      <th>996</th>\n",
       "      <td>The Natural Way to Draw</td>\n",
       "      <td>808</td>\n",
       "      <td>0</td>\n",
       "      <td>3.000000</td>\n",
       "    </tr>\n",
       "    <tr>\n",
       "      <th>997</th>\n",
       "      <td>The Cat in the Hat and Other Dr. Seuss Favorites</td>\n",
       "      <td>672</td>\n",
       "      <td>0</td>\n",
       "      <td>5.000000</td>\n",
       "    </tr>\n",
       "    <tr>\n",
       "      <th>998</th>\n",
       "      <td>Essential Tales and Poems</td>\n",
       "      <td>221</td>\n",
       "      <td>0</td>\n",
       "      <td>4.000000</td>\n",
       "    </tr>\n",
       "    <tr>\n",
       "      <th>999</th>\n",
       "      <td>Disney's Beauty and the Beast (A Little Golden...</td>\n",
       "      <td>191</td>\n",
       "      <td>0</td>\n",
       "      <td>4.000000</td>\n",
       "    </tr>\n",
       "  </tbody>\n",
       "</table>\n",
       "<p>1000 rows × 4 columns</p>\n",
       "</div>"
      ],
      "text/plain": [
       "                                                 title  book_id  count  \\\n",
       "0                              Twilight (Twilight  #1)      948      7   \n",
       "1                                  Water for Elephants      963      6   \n",
       "2                                     The Glass Castle      734      6   \n",
       "3    Harry Potter and the Prisoner of Azkaban (Harr...      302      6   \n",
       "4    The Curious Incident of the Dog in the Night-Time      695      6   \n",
       "..                                                 ...      ...    ...   \n",
       "995    Anne Rice's The Vampire Lestat: A Graphic Novel       83      0   \n",
       "996                            The Natural Way to Draw      808      0   \n",
       "997   The Cat in the Hat and Other Dr. Seuss Favorites      672      0   \n",
       "998                          Essential Tales and Poems      221      0   \n",
       "999  Disney's Beauty and the Beast (A Little Golden...      191      0   \n",
       "\n",
       "          avg  \n",
       "0    3.662500  \n",
       "1    3.977273  \n",
       "2    4.206897  \n",
       "3    4.414634  \n",
       "4    4.081081  \n",
       "..        ...  \n",
       "995  3.666667  \n",
       "996  3.000000  \n",
       "997  5.000000  \n",
       "998  4.000000  \n",
       "999  4.000000  \n",
       "\n",
       "[1000 rows x 4 columns]"
      ]
     },
     "execution_count": 11,
     "metadata": {},
     "output_type": "execute_result"
    }
   ],
   "source": [
    "# чтобы выполнить SQL-запрос, используем Pandas\n",
    "query = '''SELECT books.title, books.book_id, COUNT(DISTINCT reviews.review_id) as COUNT, AVG(ratings.rating) as AVG\n",
    "FROM books\n",
    "INNER JOIN ratings ON ratings.book_id = books.book_id\n",
    "LEFT JOIN reviews ON reviews.book_id = books.book_id\n",
    "GROUP BY books.title, books.book_id\n",
    "ORDER BY COUNT DESC;'''\n",
    "con=engine.connect()\n",
    "pd.io.sql.read_sql(sql=text(query), con = con)"
   ]
  },
  {
   "cell_type": "markdown",
   "metadata": {},
   "source": [
    "Книга Twilight (Twilight #1) с самым большим количеством обзоров имеет среднюю оценку 3,66"
   ]
  },
  {
   "cell_type": "markdown",
   "metadata": {},
   "source": [
    "#### Определите издательство, которое выпустило наибольшее число книг толще 50 страниц — так вы исключите из анализа брошюры"
   ]
  },
  {
   "cell_type": "markdown",
   "metadata": {},
   "source": [
    "Понадобятся таблицы books и publishers"
   ]
  },
  {
   "cell_type": "code",
   "execution_count": 12,
   "metadata": {},
   "outputs": [
    {
     "data": {
      "text/html": [
       "<div>\n",
       "<style scoped>\n",
       "    .dataframe tbody tr th:only-of-type {\n",
       "        vertical-align: middle;\n",
       "    }\n",
       "\n",
       "    .dataframe tbody tr th {\n",
       "        vertical-align: top;\n",
       "    }\n",
       "\n",
       "    .dataframe thead th {\n",
       "        text-align: right;\n",
       "    }\n",
       "</style>\n",
       "<table border=\"1\" class=\"dataframe\">\n",
       "  <thead>\n",
       "    <tr style=\"text-align: right;\">\n",
       "      <th></th>\n",
       "      <th>book_id</th>\n",
       "      <th>author_id</th>\n",
       "      <th>title</th>\n",
       "      <th>num_pages</th>\n",
       "      <th>publication_date</th>\n",
       "      <th>publisher_id</th>\n",
       "    </tr>\n",
       "  </thead>\n",
       "  <tbody>\n",
       "    <tr>\n",
       "      <th>0</th>\n",
       "      <td>1</td>\n",
       "      <td>546</td>\n",
       "      <td>'Salem's Lot</td>\n",
       "      <td>594</td>\n",
       "      <td>2005-11-01</td>\n",
       "      <td>93</td>\n",
       "    </tr>\n",
       "    <tr>\n",
       "      <th>1</th>\n",
       "      <td>2</td>\n",
       "      <td>465</td>\n",
       "      <td>1 000 Places to See Before You Die</td>\n",
       "      <td>992</td>\n",
       "      <td>2003-05-22</td>\n",
       "      <td>336</td>\n",
       "    </tr>\n",
       "    <tr>\n",
       "      <th>2</th>\n",
       "      <td>3</td>\n",
       "      <td>407</td>\n",
       "      <td>13 Little Blue Envelopes (Little Blue Envelope...</td>\n",
       "      <td>322</td>\n",
       "      <td>2010-12-21</td>\n",
       "      <td>135</td>\n",
       "    </tr>\n",
       "    <tr>\n",
       "      <th>3</th>\n",
       "      <td>4</td>\n",
       "      <td>82</td>\n",
       "      <td>1491: New Revelations of the Americas Before C...</td>\n",
       "      <td>541</td>\n",
       "      <td>2006-10-10</td>\n",
       "      <td>309</td>\n",
       "    </tr>\n",
       "    <tr>\n",
       "      <th>4</th>\n",
       "      <td>5</td>\n",
       "      <td>125</td>\n",
       "      <td>1776</td>\n",
       "      <td>386</td>\n",
       "      <td>2006-07-04</td>\n",
       "      <td>268</td>\n",
       "    </tr>\n",
       "  </tbody>\n",
       "</table>\n",
       "</div>"
      ],
      "text/plain": [
       "   book_id  author_id                                              title  \\\n",
       "0        1        546                                       'Salem's Lot   \n",
       "1        2        465                 1 000 Places to See Before You Die   \n",
       "2        3        407  13 Little Blue Envelopes (Little Blue Envelope...   \n",
       "3        4         82  1491: New Revelations of the Americas Before C...   \n",
       "4        5        125                                               1776   \n",
       "\n",
       "   num_pages publication_date  publisher_id  \n",
       "0        594       2005-11-01            93  \n",
       "1        992       2003-05-22           336  \n",
       "2        322       2010-12-21           135  \n",
       "3        541       2006-10-10           309  \n",
       "4        386       2006-07-04           268  "
      ]
     },
     "execution_count": 12,
     "metadata": {},
     "output_type": "execute_result"
    }
   ],
   "source": [
    "query = '''SELECT * FROM books LIMIT 5'''\n",
    "con=engine.connect()\n",
    "pd.io.sql.read_sql(sql=text(query), con = con)"
   ]
  },
  {
   "cell_type": "code",
   "execution_count": 13,
   "metadata": {},
   "outputs": [
    {
     "data": {
      "text/html": [
       "<div>\n",
       "<style scoped>\n",
       "    .dataframe tbody tr th:only-of-type {\n",
       "        vertical-align: middle;\n",
       "    }\n",
       "\n",
       "    .dataframe tbody tr th {\n",
       "        vertical-align: top;\n",
       "    }\n",
       "\n",
       "    .dataframe thead th {\n",
       "        text-align: right;\n",
       "    }\n",
       "</style>\n",
       "<table border=\"1\" class=\"dataframe\">\n",
       "  <thead>\n",
       "    <tr style=\"text-align: right;\">\n",
       "      <th></th>\n",
       "      <th>publisher_id</th>\n",
       "      <th>publisher</th>\n",
       "    </tr>\n",
       "  </thead>\n",
       "  <tbody>\n",
       "    <tr>\n",
       "      <th>0</th>\n",
       "      <td>1</td>\n",
       "      <td>Ace</td>\n",
       "    </tr>\n",
       "    <tr>\n",
       "      <th>1</th>\n",
       "      <td>2</td>\n",
       "      <td>Ace Book</td>\n",
       "    </tr>\n",
       "    <tr>\n",
       "      <th>2</th>\n",
       "      <td>3</td>\n",
       "      <td>Ace Books</td>\n",
       "    </tr>\n",
       "    <tr>\n",
       "      <th>3</th>\n",
       "      <td>4</td>\n",
       "      <td>Ace Hardcover</td>\n",
       "    </tr>\n",
       "    <tr>\n",
       "      <th>4</th>\n",
       "      <td>5</td>\n",
       "      <td>Addison Wesley Publishing Company</td>\n",
       "    </tr>\n",
       "  </tbody>\n",
       "</table>\n",
       "</div>"
      ],
      "text/plain": [
       "   publisher_id                          publisher\n",
       "0             1                                Ace\n",
       "1             2                           Ace Book\n",
       "2             3                          Ace Books\n",
       "3             4                      Ace Hardcover\n",
       "4             5  Addison Wesley Publishing Company"
      ]
     },
     "execution_count": 13,
     "metadata": {},
     "output_type": "execute_result"
    }
   ],
   "source": [
    "query = '''SELECT * FROM publishers LIMIT 5'''\n",
    "con=engine.connect()\n",
    "pd.io.sql.read_sql(sql=text(query), con = con)"
   ]
  },
  {
   "cell_type": "markdown",
   "metadata": {},
   "source": [
    "Обьеденим books и publishers, выведем столбцы publisher и publisher_id, при условии где страниц будет больше 50"
   ]
  },
  {
   "cell_type": "code",
   "execution_count": 14,
   "metadata": {},
   "outputs": [
    {
     "data": {
      "text/html": [
       "<div>\n",
       "<style scoped>\n",
       "    .dataframe tbody tr th:only-of-type {\n",
       "        vertical-align: middle;\n",
       "    }\n",
       "\n",
       "    .dataframe tbody tr th {\n",
       "        vertical-align: top;\n",
       "    }\n",
       "\n",
       "    .dataframe thead th {\n",
       "        text-align: right;\n",
       "    }\n",
       "</style>\n",
       "<table border=\"1\" class=\"dataframe\">\n",
       "  <thead>\n",
       "    <tr style=\"text-align: right;\">\n",
       "      <th></th>\n",
       "      <th>publisher</th>\n",
       "      <th>publisher_id</th>\n",
       "    </tr>\n",
       "  </thead>\n",
       "  <tbody>\n",
       "    <tr>\n",
       "      <th>0</th>\n",
       "      <td>Doubleday</td>\n",
       "      <td>93</td>\n",
       "    </tr>\n",
       "    <tr>\n",
       "      <th>1</th>\n",
       "      <td>Workman Publishing Company</td>\n",
       "      <td>336</td>\n",
       "    </tr>\n",
       "    <tr>\n",
       "      <th>2</th>\n",
       "      <td>HarperCollins Publishers</td>\n",
       "      <td>135</td>\n",
       "    </tr>\n",
       "    <tr>\n",
       "      <th>3</th>\n",
       "      <td>Vintage</td>\n",
       "      <td>309</td>\n",
       "    </tr>\n",
       "    <tr>\n",
       "      <th>4</th>\n",
       "      <td>Simon  Schuster</td>\n",
       "      <td>268</td>\n",
       "    </tr>\n",
       "    <tr>\n",
       "      <th>...</th>\n",
       "      <td>...</td>\n",
       "      <td>...</td>\n",
       "    </tr>\n",
       "    <tr>\n",
       "      <th>987</th>\n",
       "      <td>Hartorch</td>\n",
       "      <td>147</td>\n",
       "    </tr>\n",
       "    <tr>\n",
       "      <th>988</th>\n",
       "      <td>Tor Books</td>\n",
       "      <td>297</td>\n",
       "    </tr>\n",
       "    <tr>\n",
       "      <th>989</th>\n",
       "      <td>Penguin Books</td>\n",
       "      <td>212</td>\n",
       "    </tr>\n",
       "    <tr>\n",
       "      <th>990</th>\n",
       "      <td>William Morrow</td>\n",
       "      <td>331</td>\n",
       "    </tr>\n",
       "    <tr>\n",
       "      <th>991</th>\n",
       "      <td>HarperTorch</td>\n",
       "      <td>143</td>\n",
       "    </tr>\n",
       "  </tbody>\n",
       "</table>\n",
       "<p>992 rows × 2 columns</p>\n",
       "</div>"
      ],
      "text/plain": [
       "                      publisher  publisher_id\n",
       "0                     Doubleday            93\n",
       "1    Workman Publishing Company           336\n",
       "2      HarperCollins Publishers           135\n",
       "3                       Vintage           309\n",
       "4               Simon  Schuster           268\n",
       "..                          ...           ...\n",
       "987                    Hartorch           147\n",
       "988                   Tor Books           297\n",
       "989               Penguin Books           212\n",
       "990              William Morrow           331\n",
       "991                 HarperTorch           143\n",
       "\n",
       "[992 rows x 2 columns]"
      ]
     },
     "execution_count": 14,
     "metadata": {},
     "output_type": "execute_result"
    }
   ],
   "source": [
    "query = '''SELECT publishers.publisher, publishers.publisher_id\n",
    "FROM publishers\n",
    "JOIN books ON publishers.publisher_id = books.publisher_id\n",
    "WHERE books.num_pages > 50'''\n",
    "con=engine.connect()\n",
    "pd.io.sql.read_sql(sql=text(query), con = con)"
   ]
  },
  {
   "cell_type": "markdown",
   "metadata": {},
   "source": [
    "Подсчитаем количество книг, которое выпустило издание"
   ]
  },
  {
   "cell_type": "code",
   "execution_count": 15,
   "metadata": {},
   "outputs": [
    {
     "data": {
      "text/html": [
       "<div>\n",
       "<style scoped>\n",
       "    .dataframe tbody tr th:only-of-type {\n",
       "        vertical-align: middle;\n",
       "    }\n",
       "\n",
       "    .dataframe tbody tr th {\n",
       "        vertical-align: top;\n",
       "    }\n",
       "\n",
       "    .dataframe thead th {\n",
       "        text-align: right;\n",
       "    }\n",
       "</style>\n",
       "<table border=\"1\" class=\"dataframe\">\n",
       "  <thead>\n",
       "    <tr style=\"text-align: right;\">\n",
       "      <th></th>\n",
       "      <th>publisher</th>\n",
       "      <th>publisher_id</th>\n",
       "      <th>count</th>\n",
       "    </tr>\n",
       "  </thead>\n",
       "  <tbody>\n",
       "    <tr>\n",
       "      <th>0</th>\n",
       "      <td>Penguin Books</td>\n",
       "      <td>212</td>\n",
       "      <td>42</td>\n",
       "    </tr>\n",
       "    <tr>\n",
       "      <th>1</th>\n",
       "      <td>Vintage</td>\n",
       "      <td>309</td>\n",
       "      <td>31</td>\n",
       "    </tr>\n",
       "    <tr>\n",
       "      <th>2</th>\n",
       "      <td>Grand Central Publishing</td>\n",
       "      <td>116</td>\n",
       "      <td>25</td>\n",
       "    </tr>\n",
       "    <tr>\n",
       "      <th>3</th>\n",
       "      <td>Penguin Classics</td>\n",
       "      <td>217</td>\n",
       "      <td>24</td>\n",
       "    </tr>\n",
       "    <tr>\n",
       "      <th>4</th>\n",
       "      <td>Ballantine Books</td>\n",
       "      <td>33</td>\n",
       "      <td>19</td>\n",
       "    </tr>\n",
       "    <tr>\n",
       "      <th>...</th>\n",
       "      <td>...</td>\n",
       "      <td>...</td>\n",
       "      <td>...</td>\n",
       "    </tr>\n",
       "    <tr>\n",
       "      <th>329</th>\n",
       "      <td>Ballantine Books (NY)</td>\n",
       "      <td>34</td>\n",
       "      <td>1</td>\n",
       "    </tr>\n",
       "    <tr>\n",
       "      <th>330</th>\n",
       "      <td>Plaza y Janés</td>\n",
       "      <td>225</td>\n",
       "      <td>1</td>\n",
       "    </tr>\n",
       "    <tr>\n",
       "      <th>331</th>\n",
       "      <td>HarperCollinsPublishers</td>\n",
       "      <td>138</td>\n",
       "      <td>1</td>\n",
       "    </tr>\n",
       "    <tr>\n",
       "      <th>332</th>\n",
       "      <td>Random House: Modern Library</td>\n",
       "      <td>245</td>\n",
       "      <td>1</td>\n",
       "    </tr>\n",
       "    <tr>\n",
       "      <th>333</th>\n",
       "      <td>Pan Childrens</td>\n",
       "      <td>205</td>\n",
       "      <td>1</td>\n",
       "    </tr>\n",
       "  </tbody>\n",
       "</table>\n",
       "<p>334 rows × 3 columns</p>\n",
       "</div>"
      ],
      "text/plain": [
       "                        publisher  publisher_id  count\n",
       "0                   Penguin Books           212     42\n",
       "1                         Vintage           309     31\n",
       "2        Grand Central Publishing           116     25\n",
       "3                Penguin Classics           217     24\n",
       "4                Ballantine Books            33     19\n",
       "..                            ...           ...    ...\n",
       "329         Ballantine Books (NY)            34      1\n",
       "330                 Plaza y Janés           225      1\n",
       "331       HarperCollinsPublishers           138      1\n",
       "332  Random House: Modern Library           245      1\n",
       "333                 Pan Childrens           205      1\n",
       "\n",
       "[334 rows x 3 columns]"
      ]
     },
     "execution_count": 15,
     "metadata": {},
     "output_type": "execute_result"
    }
   ],
   "source": [
    "query = '''SELECT publishers.publisher, publishers.publisher_id, COUNT(books.book_id) as COUNT\n",
    "FROM publishers\n",
    "JOIN books ON publishers.publisher_id = books.publisher_id\n",
    "WHERE books.num_pages > 50\n",
    "GROUP BY publishers.publisher_id\n",
    "ORDER BY COUNT DESC'''\n",
    "con=engine.connect()\n",
    "pd.io.sql.read_sql(sql=text(query), con = con)"
   ]
  },
  {
   "cell_type": "code",
   "execution_count": 16,
   "metadata": {},
   "outputs": [
    {
     "data": {
      "text/html": [
       "<div>\n",
       "<style scoped>\n",
       "    .dataframe tbody tr th:only-of-type {\n",
       "        vertical-align: middle;\n",
       "    }\n",
       "\n",
       "    .dataframe tbody tr th {\n",
       "        vertical-align: top;\n",
       "    }\n",
       "\n",
       "    .dataframe thead th {\n",
       "        text-align: right;\n",
       "    }\n",
       "</style>\n",
       "<table border=\"1\" class=\"dataframe\">\n",
       "  <thead>\n",
       "    <tr style=\"text-align: right;\">\n",
       "      <th></th>\n",
       "      <th>publisher</th>\n",
       "      <th>publisher_id</th>\n",
       "      <th>count</th>\n",
       "    </tr>\n",
       "  </thead>\n",
       "  <tbody>\n",
       "    <tr>\n",
       "      <th>0</th>\n",
       "      <td>Penguin Books</td>\n",
       "      <td>212</td>\n",
       "      <td>42</td>\n",
       "    </tr>\n",
       "  </tbody>\n",
       "</table>\n",
       "</div>"
      ],
      "text/plain": [
       "       publisher  publisher_id  count\n",
       "0  Penguin Books           212     42"
      ]
     },
     "execution_count": 16,
     "metadata": {},
     "output_type": "execute_result"
    }
   ],
   "source": [
    "query = '''SELECT publishers.publisher, publishers.publisher_id, COUNT(books.book_id) as COUNT\n",
    "FROM publishers\n",
    "JOIN books ON publishers.publisher_id = books.publisher_id\n",
    "WHERE books.num_pages > 50\n",
    "GROUP BY publishers.publisher_id\n",
    "ORDER BY COUNT DESC\n",
    "LIMIT 1;'''\n",
    "con=engine.connect()\n",
    "pd.io.sql.read_sql(sql=text(query), con = con)"
   ]
  },
  {
   "cell_type": "markdown",
   "metadata": {},
   "source": [
    "Больше всего книг выпустило издание Penguin Books"
   ]
  },
  {
   "cell_type": "markdown",
   "metadata": {},
   "source": [
    "#### Определите автора с самой высокой средней оценкой книг — учитывайте только книги с 50 и более оценками"
   ]
  },
  {
   "cell_type": "markdown",
   "metadata": {},
   "source": [
    "Понадобятся таблицы authors, books, ratings"
   ]
  },
  {
   "cell_type": "code",
   "execution_count": 17,
   "metadata": {},
   "outputs": [
    {
     "data": {
      "text/html": [
       "<div>\n",
       "<style scoped>\n",
       "    .dataframe tbody tr th:only-of-type {\n",
       "        vertical-align: middle;\n",
       "    }\n",
       "\n",
       "    .dataframe tbody tr th {\n",
       "        vertical-align: top;\n",
       "    }\n",
       "\n",
       "    .dataframe thead th {\n",
       "        text-align: right;\n",
       "    }\n",
       "</style>\n",
       "<table border=\"1\" class=\"dataframe\">\n",
       "  <thead>\n",
       "    <tr style=\"text-align: right;\">\n",
       "      <th></th>\n",
       "      <th>author_id</th>\n",
       "      <th>author</th>\n",
       "    </tr>\n",
       "  </thead>\n",
       "  <tbody>\n",
       "    <tr>\n",
       "      <th>0</th>\n",
       "      <td>1</td>\n",
       "      <td>A.S. Byatt</td>\n",
       "    </tr>\n",
       "    <tr>\n",
       "      <th>1</th>\n",
       "      <td>2</td>\n",
       "      <td>Aesop/Laura Harris/Laura Gibbs</td>\n",
       "    </tr>\n",
       "    <tr>\n",
       "      <th>2</th>\n",
       "      <td>3</td>\n",
       "      <td>Agatha Christie</td>\n",
       "    </tr>\n",
       "    <tr>\n",
       "      <th>3</th>\n",
       "      <td>4</td>\n",
       "      <td>Alan Brennert</td>\n",
       "    </tr>\n",
       "    <tr>\n",
       "      <th>4</th>\n",
       "      <td>5</td>\n",
       "      <td>Alan Moore/David   Lloyd</td>\n",
       "    </tr>\n",
       "  </tbody>\n",
       "</table>\n",
       "</div>"
      ],
      "text/plain": [
       "   author_id                          author\n",
       "0          1                      A.S. Byatt\n",
       "1          2  Aesop/Laura Harris/Laura Gibbs\n",
       "2          3                 Agatha Christie\n",
       "3          4                   Alan Brennert\n",
       "4          5        Alan Moore/David   Lloyd"
      ]
     },
     "execution_count": 17,
     "metadata": {},
     "output_type": "execute_result"
    }
   ],
   "source": [
    "query = '''SELECT * FROM authors LIMIT 5'''\n",
    "con=engine.connect()\n",
    "pd.io.sql.read_sql(sql=text(query), con = con)"
   ]
  },
  {
   "cell_type": "code",
   "execution_count": 18,
   "metadata": {},
   "outputs": [
    {
     "data": {
      "text/html": [
       "<div>\n",
       "<style scoped>\n",
       "    .dataframe tbody tr th:only-of-type {\n",
       "        vertical-align: middle;\n",
       "    }\n",
       "\n",
       "    .dataframe tbody tr th {\n",
       "        vertical-align: top;\n",
       "    }\n",
       "\n",
       "    .dataframe thead th {\n",
       "        text-align: right;\n",
       "    }\n",
       "</style>\n",
       "<table border=\"1\" class=\"dataframe\">\n",
       "  <thead>\n",
       "    <tr style=\"text-align: right;\">\n",
       "      <th></th>\n",
       "      <th>book_id</th>\n",
       "      <th>author_id</th>\n",
       "      <th>title</th>\n",
       "      <th>num_pages</th>\n",
       "      <th>publication_date</th>\n",
       "      <th>publisher_id</th>\n",
       "    </tr>\n",
       "  </thead>\n",
       "  <tbody>\n",
       "    <tr>\n",
       "      <th>0</th>\n",
       "      <td>1</td>\n",
       "      <td>546</td>\n",
       "      <td>'Salem's Lot</td>\n",
       "      <td>594</td>\n",
       "      <td>2005-11-01</td>\n",
       "      <td>93</td>\n",
       "    </tr>\n",
       "    <tr>\n",
       "      <th>1</th>\n",
       "      <td>2</td>\n",
       "      <td>465</td>\n",
       "      <td>1 000 Places to See Before You Die</td>\n",
       "      <td>992</td>\n",
       "      <td>2003-05-22</td>\n",
       "      <td>336</td>\n",
       "    </tr>\n",
       "    <tr>\n",
       "      <th>2</th>\n",
       "      <td>3</td>\n",
       "      <td>407</td>\n",
       "      <td>13 Little Blue Envelopes (Little Blue Envelope...</td>\n",
       "      <td>322</td>\n",
       "      <td>2010-12-21</td>\n",
       "      <td>135</td>\n",
       "    </tr>\n",
       "    <tr>\n",
       "      <th>3</th>\n",
       "      <td>4</td>\n",
       "      <td>82</td>\n",
       "      <td>1491: New Revelations of the Americas Before C...</td>\n",
       "      <td>541</td>\n",
       "      <td>2006-10-10</td>\n",
       "      <td>309</td>\n",
       "    </tr>\n",
       "    <tr>\n",
       "      <th>4</th>\n",
       "      <td>5</td>\n",
       "      <td>125</td>\n",
       "      <td>1776</td>\n",
       "      <td>386</td>\n",
       "      <td>2006-07-04</td>\n",
       "      <td>268</td>\n",
       "    </tr>\n",
       "  </tbody>\n",
       "</table>\n",
       "</div>"
      ],
      "text/plain": [
       "   book_id  author_id                                              title  \\\n",
       "0        1        546                                       'Salem's Lot   \n",
       "1        2        465                 1 000 Places to See Before You Die   \n",
       "2        3        407  13 Little Blue Envelopes (Little Blue Envelope...   \n",
       "3        4         82  1491: New Revelations of the Americas Before C...   \n",
       "4        5        125                                               1776   \n",
       "\n",
       "   num_pages publication_date  publisher_id  \n",
       "0        594       2005-11-01            93  \n",
       "1        992       2003-05-22           336  \n",
       "2        322       2010-12-21           135  \n",
       "3        541       2006-10-10           309  \n",
       "4        386       2006-07-04           268  "
      ]
     },
     "execution_count": 18,
     "metadata": {},
     "output_type": "execute_result"
    }
   ],
   "source": [
    "query = '''SELECT * FROM books LIMIT 5'''\n",
    "con=engine.connect()\n",
    "pd.io.sql.read_sql(sql=text(query), con = con)"
   ]
  },
  {
   "cell_type": "code",
   "execution_count": 19,
   "metadata": {},
   "outputs": [
    {
     "data": {
      "text/html": [
       "<div>\n",
       "<style scoped>\n",
       "    .dataframe tbody tr th:only-of-type {\n",
       "        vertical-align: middle;\n",
       "    }\n",
       "\n",
       "    .dataframe tbody tr th {\n",
       "        vertical-align: top;\n",
       "    }\n",
       "\n",
       "    .dataframe thead th {\n",
       "        text-align: right;\n",
       "    }\n",
       "</style>\n",
       "<table border=\"1\" class=\"dataframe\">\n",
       "  <thead>\n",
       "    <tr style=\"text-align: right;\">\n",
       "      <th></th>\n",
       "      <th>rating_id</th>\n",
       "      <th>book_id</th>\n",
       "      <th>username</th>\n",
       "      <th>rating</th>\n",
       "    </tr>\n",
       "  </thead>\n",
       "  <tbody>\n",
       "    <tr>\n",
       "      <th>0</th>\n",
       "      <td>1</td>\n",
       "      <td>1</td>\n",
       "      <td>ryanfranco</td>\n",
       "      <td>4</td>\n",
       "    </tr>\n",
       "    <tr>\n",
       "      <th>1</th>\n",
       "      <td>2</td>\n",
       "      <td>1</td>\n",
       "      <td>grantpatricia</td>\n",
       "      <td>2</td>\n",
       "    </tr>\n",
       "    <tr>\n",
       "      <th>2</th>\n",
       "      <td>3</td>\n",
       "      <td>1</td>\n",
       "      <td>brandtandrea</td>\n",
       "      <td>5</td>\n",
       "    </tr>\n",
       "    <tr>\n",
       "      <th>3</th>\n",
       "      <td>4</td>\n",
       "      <td>2</td>\n",
       "      <td>lorichen</td>\n",
       "      <td>3</td>\n",
       "    </tr>\n",
       "    <tr>\n",
       "      <th>4</th>\n",
       "      <td>5</td>\n",
       "      <td>2</td>\n",
       "      <td>mariokeller</td>\n",
       "      <td>2</td>\n",
       "    </tr>\n",
       "  </tbody>\n",
       "</table>\n",
       "</div>"
      ],
      "text/plain": [
       "   rating_id  book_id       username  rating\n",
       "0          1        1     ryanfranco       4\n",
       "1          2        1  grantpatricia       2\n",
       "2          3        1   brandtandrea       5\n",
       "3          4        2       lorichen       3\n",
       "4          5        2    mariokeller       2"
      ]
     },
     "execution_count": 19,
     "metadata": {},
     "output_type": "execute_result"
    }
   ],
   "source": [
    "query = '''SELECT * FROM ratings LIMIT 5'''\n",
    "con=engine.connect()\n",
    "pd.io.sql.read_sql(sql=text(query), con = con)"
   ]
  },
  {
   "cell_type": "markdown",
   "metadata": {},
   "source": [
    "Для начала соеденим, выведем столбцы author, author_id, rating, books.book_id"
   ]
  },
  {
   "cell_type": "code",
   "execution_count": 20,
   "metadata": {},
   "outputs": [
    {
     "data": {
      "text/html": [
       "<div>\n",
       "<style scoped>\n",
       "    .dataframe tbody tr th:only-of-type {\n",
       "        vertical-align: middle;\n",
       "    }\n",
       "\n",
       "    .dataframe tbody tr th {\n",
       "        vertical-align: top;\n",
       "    }\n",
       "\n",
       "    .dataframe thead th {\n",
       "        text-align: right;\n",
       "    }\n",
       "</style>\n",
       "<table border=\"1\" class=\"dataframe\">\n",
       "  <thead>\n",
       "    <tr style=\"text-align: right;\">\n",
       "      <th></th>\n",
       "      <th>author</th>\n",
       "      <th>author_id</th>\n",
       "      <th>book_id</th>\n",
       "      <th>rating</th>\n",
       "    </tr>\n",
       "  </thead>\n",
       "  <tbody>\n",
       "    <tr>\n",
       "      <th>0</th>\n",
       "      <td>Stephen King/Jerry N. Uelsmann</td>\n",
       "      <td>546</td>\n",
       "      <td>1</td>\n",
       "      <td>4</td>\n",
       "    </tr>\n",
       "    <tr>\n",
       "      <th>1</th>\n",
       "      <td>Stephen King/Jerry N. Uelsmann</td>\n",
       "      <td>546</td>\n",
       "      <td>1</td>\n",
       "      <td>2</td>\n",
       "    </tr>\n",
       "    <tr>\n",
       "      <th>2</th>\n",
       "      <td>Stephen King/Jerry N. Uelsmann</td>\n",
       "      <td>546</td>\n",
       "      <td>1</td>\n",
       "      <td>5</td>\n",
       "    </tr>\n",
       "    <tr>\n",
       "      <th>3</th>\n",
       "      <td>Patricia Schultz</td>\n",
       "      <td>465</td>\n",
       "      <td>2</td>\n",
       "      <td>3</td>\n",
       "    </tr>\n",
       "    <tr>\n",
       "      <th>4</th>\n",
       "      <td>Patricia Schultz</td>\n",
       "      <td>465</td>\n",
       "      <td>2</td>\n",
       "      <td>2</td>\n",
       "    </tr>\n",
       "    <tr>\n",
       "      <th>...</th>\n",
       "      <td>...</td>\n",
       "      <td>...</td>\n",
       "      <td>...</td>\n",
       "      <td>...</td>\n",
       "    </tr>\n",
       "    <tr>\n",
       "      <th>6451</th>\n",
       "      <td>Robert M. Pirsig</td>\n",
       "      <td>509</td>\n",
       "      <td>1000</td>\n",
       "      <td>4</td>\n",
       "    </tr>\n",
       "    <tr>\n",
       "      <th>6452</th>\n",
       "      <td>Robert M. Pirsig</td>\n",
       "      <td>509</td>\n",
       "      <td>1000</td>\n",
       "      <td>4</td>\n",
       "    </tr>\n",
       "    <tr>\n",
       "      <th>6453</th>\n",
       "      <td>Robert M. Pirsig</td>\n",
       "      <td>509</td>\n",
       "      <td>1000</td>\n",
       "      <td>5</td>\n",
       "    </tr>\n",
       "    <tr>\n",
       "      <th>6454</th>\n",
       "      <td>Robert M. Pirsig</td>\n",
       "      <td>509</td>\n",
       "      <td>1000</td>\n",
       "      <td>2</td>\n",
       "    </tr>\n",
       "    <tr>\n",
       "      <th>6455</th>\n",
       "      <td>Robert M. Pirsig</td>\n",
       "      <td>509</td>\n",
       "      <td>1000</td>\n",
       "      <td>5</td>\n",
       "    </tr>\n",
       "  </tbody>\n",
       "</table>\n",
       "<p>6456 rows × 4 columns</p>\n",
       "</div>"
      ],
      "text/plain": [
       "                              author  author_id  book_id  rating\n",
       "0     Stephen King/Jerry N. Uelsmann        546        1       4\n",
       "1     Stephen King/Jerry N. Uelsmann        546        1       2\n",
       "2     Stephen King/Jerry N. Uelsmann        546        1       5\n",
       "3                   Patricia Schultz        465        2       3\n",
       "4                   Patricia Schultz        465        2       2\n",
       "...                              ...        ...      ...     ...\n",
       "6451                Robert M. Pirsig        509     1000       4\n",
       "6452                Robert M. Pirsig        509     1000       4\n",
       "6453                Robert M. Pirsig        509     1000       5\n",
       "6454                Robert M. Pirsig        509     1000       2\n",
       "6455                Robert M. Pirsig        509     1000       5\n",
       "\n",
       "[6456 rows x 4 columns]"
      ]
     },
     "execution_count": 20,
     "metadata": {},
     "output_type": "execute_result"
    }
   ],
   "source": [
    "query = '''SELECT authors.author, authors.author_id, books.book_id, ratings.rating\n",
    "FROM authors\n",
    "INNER JOIN books ON books.author_id = authors.author_id\n",
    "INNER JOIN ratings ON ratings.book_id = books.book_id\n",
    ";'''\n",
    "con=engine.connect()\n",
    "pd.io.sql.read_sql(sql=text(query), con = con) "
   ]
  },
  {
   "cell_type": "markdown",
   "metadata": {},
   "source": [
    "Определим автора с самой высокой средней оценкой книг, учтем так же условие, что бы оценок было больше 50"
   ]
  },
  {
   "cell_type": "code",
   "execution_count": 21,
   "metadata": {},
   "outputs": [
    {
     "data": {
      "text/html": [
       "<div>\n",
       "<style scoped>\n",
       "    .dataframe tbody tr th:only-of-type {\n",
       "        vertical-align: middle;\n",
       "    }\n",
       "\n",
       "    .dataframe tbody tr th {\n",
       "        vertical-align: top;\n",
       "    }\n",
       "\n",
       "    .dataframe thead th {\n",
       "        text-align: right;\n",
       "    }\n",
       "</style>\n",
       "<table border=\"1\" class=\"dataframe\">\n",
       "  <thead>\n",
       "    <tr style=\"text-align: right;\">\n",
       "      <th></th>\n",
       "      <th>iauthor</th>\n",
       "      <th>idbook</th>\n",
       "      <th>avg</th>\n",
       "      <th>count</th>\n",
       "    </tr>\n",
       "  </thead>\n",
       "  <tbody>\n",
       "    <tr>\n",
       "      <th>0</th>\n",
       "      <td>J.K. Rowling/Mary GrandPré</td>\n",
       "      <td>302</td>\n",
       "      <td>4.414634</td>\n",
       "      <td>82</td>\n",
       "    </tr>\n",
       "    <tr>\n",
       "      <th>1</th>\n",
       "      <td>J.R.R. Tolkien</td>\n",
       "      <td>722</td>\n",
       "      <td>4.391892</td>\n",
       "      <td>74</td>\n",
       "    </tr>\n",
       "    <tr>\n",
       "      <th>2</th>\n",
       "      <td>J.K. Rowling/Mary GrandPré</td>\n",
       "      <td>299</td>\n",
       "      <td>4.287500</td>\n",
       "      <td>80</td>\n",
       "    </tr>\n",
       "    <tr>\n",
       "      <th>3</th>\n",
       "      <td>Markus Zusak/Cao Xuân Việt Khương</td>\n",
       "      <td>656</td>\n",
       "      <td>4.264151</td>\n",
       "      <td>53</td>\n",
       "    </tr>\n",
       "    <tr>\n",
       "      <th>4</th>\n",
       "      <td>J.K. Rowling/Mary GrandPré</td>\n",
       "      <td>300</td>\n",
       "      <td>4.246575</td>\n",
       "      <td>73</td>\n",
       "    </tr>\n",
       "    <tr>\n",
       "      <th>5</th>\n",
       "      <td>Louisa May Alcott</td>\n",
       "      <td>399</td>\n",
       "      <td>4.192308</td>\n",
       "      <td>52</td>\n",
       "    </tr>\n",
       "    <tr>\n",
       "      <th>6</th>\n",
       "      <td>J.K. Rowling/Mary GrandPré</td>\n",
       "      <td>301</td>\n",
       "      <td>4.186667</td>\n",
       "      <td>75</td>\n",
       "    </tr>\n",
       "    <tr>\n",
       "      <th>7</th>\n",
       "      <td>J.R.R. Tolkien</td>\n",
       "      <td>750</td>\n",
       "      <td>4.125000</td>\n",
       "      <td>88</td>\n",
       "    </tr>\n",
       "    <tr>\n",
       "      <th>8</th>\n",
       "      <td>Rick Riordan</td>\n",
       "      <td>779</td>\n",
       "      <td>4.080645</td>\n",
       "      <td>62</td>\n",
       "    </tr>\n",
       "    <tr>\n",
       "      <th>9</th>\n",
       "      <td>William Golding</td>\n",
       "      <td>405</td>\n",
       "      <td>3.901408</td>\n",
       "      <td>71</td>\n",
       "    </tr>\n",
       "    <tr>\n",
       "      <th>10</th>\n",
       "      <td>Dan Brown</td>\n",
       "      <td>696</td>\n",
       "      <td>3.830508</td>\n",
       "      <td>59</td>\n",
       "    </tr>\n",
       "    <tr>\n",
       "      <th>11</th>\n",
       "      <td>J.D. Salinger</td>\n",
       "      <td>673</td>\n",
       "      <td>3.825581</td>\n",
       "      <td>86</td>\n",
       "    </tr>\n",
       "    <tr>\n",
       "      <th>12</th>\n",
       "      <td>Paulo Coelho/Alan R. Clarke/Özdemir İnce</td>\n",
       "      <td>627</td>\n",
       "      <td>3.789474</td>\n",
       "      <td>57</td>\n",
       "    </tr>\n",
       "    <tr>\n",
       "      <th>13</th>\n",
       "      <td>William Shakespeare/Paul Werstine/Barbara A. M...</td>\n",
       "      <td>545</td>\n",
       "      <td>3.787879</td>\n",
       "      <td>66</td>\n",
       "    </tr>\n",
       "    <tr>\n",
       "      <th>14</th>\n",
       "      <td>Lois Lowry</td>\n",
       "      <td>733</td>\n",
       "      <td>3.750000</td>\n",
       "      <td>56</td>\n",
       "    </tr>\n",
       "    <tr>\n",
       "      <th>15</th>\n",
       "      <td>George Orwell/Boris Grabnar/Peter Škerl</td>\n",
       "      <td>79</td>\n",
       "      <td>3.729730</td>\n",
       "      <td>74</td>\n",
       "    </tr>\n",
       "    <tr>\n",
       "      <th>16</th>\n",
       "      <td>Dan Brown</td>\n",
       "      <td>75</td>\n",
       "      <td>3.678571</td>\n",
       "      <td>84</td>\n",
       "    </tr>\n",
       "    <tr>\n",
       "      <th>17</th>\n",
       "      <td>Stephenie Meyer</td>\n",
       "      <td>948</td>\n",
       "      <td>3.662500</td>\n",
       "      <td>160</td>\n",
       "    </tr>\n",
       "    <tr>\n",
       "      <th>18</th>\n",
       "      <td>John Steinbeck</td>\n",
       "      <td>488</td>\n",
       "      <td>3.622951</td>\n",
       "      <td>61</td>\n",
       "    </tr>\n",
       "  </tbody>\n",
       "</table>\n",
       "</div>"
      ],
      "text/plain": [
       "                                              iauthor  idbook       avg  count\n",
       "0                          J.K. Rowling/Mary GrandPré     302  4.414634     82\n",
       "1                                      J.R.R. Tolkien     722  4.391892     74\n",
       "2                          J.K. Rowling/Mary GrandPré     299  4.287500     80\n",
       "3                   Markus Zusak/Cao Xuân Việt Khương     656  4.264151     53\n",
       "4                          J.K. Rowling/Mary GrandPré     300  4.246575     73\n",
       "5                                   Louisa May Alcott     399  4.192308     52\n",
       "6                          J.K. Rowling/Mary GrandPré     301  4.186667     75\n",
       "7                                      J.R.R. Tolkien     750  4.125000     88\n",
       "8                                        Rick Riordan     779  4.080645     62\n",
       "9                                     William Golding     405  3.901408     71\n",
       "10                                          Dan Brown     696  3.830508     59\n",
       "11                                      J.D. Salinger     673  3.825581     86\n",
       "12           Paulo Coelho/Alan R. Clarke/Özdemir İnce     627  3.789474     57\n",
       "13  William Shakespeare/Paul Werstine/Barbara A. M...     545  3.787879     66\n",
       "14                                         Lois Lowry     733  3.750000     56\n",
       "15            George Orwell/Boris Grabnar/Peter Škerl      79  3.729730     74\n",
       "16                                          Dan Brown      75  3.678571     84\n",
       "17                                    Stephenie Meyer     948  3.662500    160\n",
       "18                                     John Steinbeck     488  3.622951     61"
      ]
     },
     "execution_count": 21,
     "metadata": {},
     "output_type": "execute_result"
    }
   ],
   "source": [
    "# чтобы выполнить SQL-запрос, используем Pandas\n",
    "query = '''SELECT \n",
    "authors.author AS iauthor, \n",
    "books.book_id AS idbook, \n",
    "AVG(ratings.rating) AS AVG, \n",
    "COUNT(ratings.rating) AS COUNT\n",
    "FROM authors\n",
    "INNER JOIN books ON books.author_id = authors.author_id\n",
    "INNER JOIN ratings ON ratings.book_id = books.book_id\n",
    "GROUP BY \n",
    "idbook,  \n",
    "author\n",
    "HAVING COUNT(ratings.rating) >= 50\n",
    "ORDER BY AVG DESC\n",
    ";'''\n",
    "con=engine.connect()\n",
    "pd.io.sql.read_sql(sql=text(query), con = con)"
   ]
  },
  {
   "cell_type": "markdown",
   "metadata": {},
   "source": [
    "Сохраним полученую таблицу в ii, и уже по ней сгрупируем по автору и подсчитаем снова среднюю оценку"
   ]
  },
  {
   "cell_type": "code",
   "execution_count": 22,
   "metadata": {},
   "outputs": [
    {
     "data": {
      "text/html": [
       "<div>\n",
       "<style scoped>\n",
       "    .dataframe tbody tr th:only-of-type {\n",
       "        vertical-align: middle;\n",
       "    }\n",
       "\n",
       "    .dataframe tbody tr th {\n",
       "        vertical-align: top;\n",
       "    }\n",
       "\n",
       "    .dataframe thead th {\n",
       "        text-align: right;\n",
       "    }\n",
       "</style>\n",
       "<table border=\"1\" class=\"dataframe\">\n",
       "  <thead>\n",
       "    <tr style=\"text-align: right;\">\n",
       "      <th></th>\n",
       "      <th>author</th>\n",
       "      <th>avg</th>\n",
       "    </tr>\n",
       "  </thead>\n",
       "  <tbody>\n",
       "    <tr>\n",
       "      <th>0</th>\n",
       "      <td>J.K. Rowling/Mary GrandPré</td>\n",
       "      <td>4.283844</td>\n",
       "    </tr>\n",
       "    <tr>\n",
       "      <th>1</th>\n",
       "      <td>Markus Zusak/Cao Xuân Việt Khương</td>\n",
       "      <td>4.264151</td>\n",
       "    </tr>\n",
       "    <tr>\n",
       "      <th>2</th>\n",
       "      <td>J.R.R. Tolkien</td>\n",
       "      <td>4.258446</td>\n",
       "    </tr>\n",
       "    <tr>\n",
       "      <th>3</th>\n",
       "      <td>Louisa May Alcott</td>\n",
       "      <td>4.192308</td>\n",
       "    </tr>\n",
       "    <tr>\n",
       "      <th>4</th>\n",
       "      <td>Rick Riordan</td>\n",
       "      <td>4.080645</td>\n",
       "    </tr>\n",
       "    <tr>\n",
       "      <th>5</th>\n",
       "      <td>William Golding</td>\n",
       "      <td>3.901408</td>\n",
       "    </tr>\n",
       "    <tr>\n",
       "      <th>6</th>\n",
       "      <td>J.D. Salinger</td>\n",
       "      <td>3.825581</td>\n",
       "    </tr>\n",
       "    <tr>\n",
       "      <th>7</th>\n",
       "      <td>Paulo Coelho/Alan R. Clarke/Özdemir İnce</td>\n",
       "      <td>3.789474</td>\n",
       "    </tr>\n",
       "    <tr>\n",
       "      <th>8</th>\n",
       "      <td>William Shakespeare/Paul Werstine/Barbara A. M...</td>\n",
       "      <td>3.787879</td>\n",
       "    </tr>\n",
       "    <tr>\n",
       "      <th>9</th>\n",
       "      <td>Dan Brown</td>\n",
       "      <td>3.754540</td>\n",
       "    </tr>\n",
       "    <tr>\n",
       "      <th>10</th>\n",
       "      <td>Lois Lowry</td>\n",
       "      <td>3.750000</td>\n",
       "    </tr>\n",
       "    <tr>\n",
       "      <th>11</th>\n",
       "      <td>George Orwell/Boris Grabnar/Peter Škerl</td>\n",
       "      <td>3.729730</td>\n",
       "    </tr>\n",
       "    <tr>\n",
       "      <th>12</th>\n",
       "      <td>Stephenie Meyer</td>\n",
       "      <td>3.662500</td>\n",
       "    </tr>\n",
       "    <tr>\n",
       "      <th>13</th>\n",
       "      <td>John Steinbeck</td>\n",
       "      <td>3.622951</td>\n",
       "    </tr>\n",
       "  </tbody>\n",
       "</table>\n",
       "</div>"
      ],
      "text/plain": [
       "                                               author       avg\n",
       "0                          J.K. Rowling/Mary GrandPré  4.283844\n",
       "1                   Markus Zusak/Cao Xuân Việt Khương  4.264151\n",
       "2                                      J.R.R. Tolkien  4.258446\n",
       "3                                   Louisa May Alcott  4.192308\n",
       "4                                        Rick Riordan  4.080645\n",
       "5                                     William Golding  3.901408\n",
       "6                                       J.D. Salinger  3.825581\n",
       "7            Paulo Coelho/Alan R. Clarke/Özdemir İnce  3.789474\n",
       "8   William Shakespeare/Paul Werstine/Barbara A. M...  3.787879\n",
       "9                                           Dan Brown  3.754540\n",
       "10                                         Lois Lowry  3.750000\n",
       "11            George Orwell/Boris Grabnar/Peter Škerl  3.729730\n",
       "12                                    Stephenie Meyer  3.662500\n",
       "13                                     John Steinbeck  3.622951"
      ]
     },
     "execution_count": 22,
     "metadata": {},
     "output_type": "execute_result"
    }
   ],
   "source": [
    "query = '''SELECT ii.iauthor AS author, AVG(ii.avg) AS avg\n",
    "FROM (SELECT \n",
    "authors.author AS iauthor, \n",
    "books.book_id AS idbook, \n",
    "AVG(ratings.rating) AS AVG, \n",
    "COUNT(ratings.rating) AS COUNT\n",
    "FROM authors\n",
    "INNER JOIN books ON books.author_id = authors.author_id\n",
    "INNER JOIN ratings ON ratings.book_id = books.book_id\n",
    "GROUP BY \n",
    "idbook,  \n",
    "iauthor\n",
    "HAVING COUNT(ratings.rating) >= 50\n",
    "ORDER BY AVG DESC) AS ii\n",
    "GROUP BY author\n",
    "ORDER BY avg DESC\n",
    ";'''\n",
    "con=engine.connect()\n",
    "pd.io.sql.read_sql(sql=text(query), con = con)"
   ]
  },
  {
   "cell_type": "markdown",
   "metadata": {},
   "source": [
    "Наибольшую среднюю оценку 4.28 имеет автор J.K. Rowling/Mary GrandPré."
   ]
  },
  {
   "cell_type": "markdown",
   "metadata": {},
   "source": [
    "#### Посчитайте среднее количество обзоров от пользователей, которые поставили больше 48 оценок"
   ]
  },
  {
   "cell_type": "markdown",
   "metadata": {},
   "source": [
    "Понадобятся таблицы reviews, ratings"
   ]
  },
  {
   "cell_type": "markdown",
   "metadata": {},
   "source": [
    "Выведем имена пользователей, у которых оценок болье 48"
   ]
  },
  {
   "cell_type": "code",
   "execution_count": 23,
   "metadata": {},
   "outputs": [
    {
     "data": {
      "text/html": [
       "<div>\n",
       "<style scoped>\n",
       "    .dataframe tbody tr th:only-of-type {\n",
       "        vertical-align: middle;\n",
       "    }\n",
       "\n",
       "    .dataframe tbody tr th {\n",
       "        vertical-align: top;\n",
       "    }\n",
       "\n",
       "    .dataframe thead th {\n",
       "        text-align: right;\n",
       "    }\n",
       "</style>\n",
       "<table border=\"1\" class=\"dataframe\">\n",
       "  <thead>\n",
       "    <tr style=\"text-align: right;\">\n",
       "      <th></th>\n",
       "      <th>username</th>\n",
       "    </tr>\n",
       "  </thead>\n",
       "  <tbody>\n",
       "    <tr>\n",
       "      <th>0</th>\n",
       "      <td>walter49</td>\n",
       "    </tr>\n",
       "    <tr>\n",
       "      <th>1</th>\n",
       "      <td>sfitzgerald</td>\n",
       "    </tr>\n",
       "    <tr>\n",
       "      <th>2</th>\n",
       "      <td>jennifermiller</td>\n",
       "    </tr>\n",
       "    <tr>\n",
       "      <th>3</th>\n",
       "      <td>andreaeaton</td>\n",
       "    </tr>\n",
       "    <tr>\n",
       "      <th>4</th>\n",
       "      <td>xdavis</td>\n",
       "    </tr>\n",
       "    <tr>\n",
       "      <th>5</th>\n",
       "      <td>vcarter</td>\n",
       "    </tr>\n",
       "    <tr>\n",
       "      <th>6</th>\n",
       "      <td>paul88</td>\n",
       "    </tr>\n",
       "    <tr>\n",
       "      <th>7</th>\n",
       "      <td>lesliegibbs</td>\n",
       "    </tr>\n",
       "    <tr>\n",
       "      <th>8</th>\n",
       "      <td>susan85</td>\n",
       "    </tr>\n",
       "    <tr>\n",
       "      <th>9</th>\n",
       "      <td>martinadam</td>\n",
       "    </tr>\n",
       "    <tr>\n",
       "      <th>10</th>\n",
       "      <td>vanessagardner</td>\n",
       "    </tr>\n",
       "    <tr>\n",
       "      <th>11</th>\n",
       "      <td>richard89</td>\n",
       "    </tr>\n",
       "    <tr>\n",
       "      <th>12</th>\n",
       "      <td>shermannatalie</td>\n",
       "    </tr>\n",
       "  </tbody>\n",
       "</table>\n",
       "</div>"
      ],
      "text/plain": [
       "          username\n",
       "0         walter49\n",
       "1      sfitzgerald\n",
       "2   jennifermiller\n",
       "3      andreaeaton\n",
       "4           xdavis\n",
       "5          vcarter\n",
       "6           paul88\n",
       "7      lesliegibbs\n",
       "8          susan85\n",
       "9       martinadam\n",
       "10  vanessagardner\n",
       "11       richard89\n",
       "12  shermannatalie"
      ]
     },
     "execution_count": 23,
     "metadata": {},
     "output_type": "execute_result"
    }
   ],
   "source": [
    "query = '''SELECT username\n",
    "FROM ratings\n",
    "GROUP BY username\n",
    "HAVING COUNT(ratings) > 48;'''\n",
    "con=engine.connect()\n",
    "pd.io.sql.read_sql(sql=text(query), con = con)"
   ]
  },
  {
   "cell_type": "markdown",
   "metadata": {},
   "source": [
    "Подсчитаем количество оценок у пользователей"
   ]
  },
  {
   "cell_type": "code",
   "execution_count": 24,
   "metadata": {},
   "outputs": [
    {
     "data": {
      "text/html": [
       "<div>\n",
       "<style scoped>\n",
       "    .dataframe tbody tr th:only-of-type {\n",
       "        vertical-align: middle;\n",
       "    }\n",
       "\n",
       "    .dataframe tbody tr th {\n",
       "        vertical-align: top;\n",
       "    }\n",
       "\n",
       "    .dataframe thead th {\n",
       "        text-align: right;\n",
       "    }\n",
       "</style>\n",
       "<table border=\"1\" class=\"dataframe\">\n",
       "  <thead>\n",
       "    <tr style=\"text-align: right;\">\n",
       "      <th></th>\n",
       "      <th>count</th>\n",
       "    </tr>\n",
       "  </thead>\n",
       "  <tbody>\n",
       "    <tr>\n",
       "      <th>0</th>\n",
       "      <td>23</td>\n",
       "    </tr>\n",
       "    <tr>\n",
       "      <th>1</th>\n",
       "      <td>28</td>\n",
       "    </tr>\n",
       "    <tr>\n",
       "      <th>2</th>\n",
       "      <td>25</td>\n",
       "    </tr>\n",
       "    <tr>\n",
       "      <th>3</th>\n",
       "      <td>22</td>\n",
       "    </tr>\n",
       "    <tr>\n",
       "      <th>4</th>\n",
       "      <td>18</td>\n",
       "    </tr>\n",
       "    <tr>\n",
       "      <th>5</th>\n",
       "      <td>20</td>\n",
       "    </tr>\n",
       "    <tr>\n",
       "      <th>6</th>\n",
       "      <td>22</td>\n",
       "    </tr>\n",
       "    <tr>\n",
       "      <th>7</th>\n",
       "      <td>26</td>\n",
       "    </tr>\n",
       "    <tr>\n",
       "      <th>8</th>\n",
       "      <td>29</td>\n",
       "    </tr>\n",
       "    <tr>\n",
       "      <th>9</th>\n",
       "      <td>27</td>\n",
       "    </tr>\n",
       "    <tr>\n",
       "      <th>10</th>\n",
       "      <td>22</td>\n",
       "    </tr>\n",
       "    <tr>\n",
       "      <th>11</th>\n",
       "      <td>26</td>\n",
       "    </tr>\n",
       "    <tr>\n",
       "      <th>12</th>\n",
       "      <td>24</td>\n",
       "    </tr>\n",
       "  </tbody>\n",
       "</table>\n",
       "</div>"
      ],
      "text/plain": [
       "    count\n",
       "0      23\n",
       "1      28\n",
       "2      25\n",
       "3      22\n",
       "4      18\n",
       "5      20\n",
       "6      22\n",
       "7      26\n",
       "8      29\n",
       "9      27\n",
       "10     22\n",
       "11     26\n",
       "12     24"
      ]
     },
     "execution_count": 24,
     "metadata": {},
     "output_type": "execute_result"
    }
   ],
   "source": [
    "query = '''SELECT COUNT(review_id)\n",
    "FROM reviews\n",
    "WHERE username IN \n",
    "(SELECT username\n",
    "FROM ratings\n",
    "GROUP BY username\n",
    "HAVING COUNT(ratings) > 48)\n",
    "GROUP BY username;'''\n",
    "con=engine.connect()\n",
    "pd.io.sql.read_sql(sql=text(query), con = con)"
   ]
  },
  {
   "cell_type": "markdown",
   "metadata": {},
   "source": [
    "Теперь, нужно подсчитать среднее количество обзоров"
   ]
  },
  {
   "cell_type": "code",
   "execution_count": 25,
   "metadata": {},
   "outputs": [
    {
     "data": {
      "text/html": [
       "<div>\n",
       "<style scoped>\n",
       "    .dataframe tbody tr th:only-of-type {\n",
       "        vertical-align: middle;\n",
       "    }\n",
       "\n",
       "    .dataframe tbody tr th {\n",
       "        vertical-align: top;\n",
       "    }\n",
       "\n",
       "    .dataframe thead th {\n",
       "        text-align: right;\n",
       "    }\n",
       "</style>\n",
       "<table border=\"1\" class=\"dataframe\">\n",
       "  <thead>\n",
       "    <tr style=\"text-align: right;\">\n",
       "      <th></th>\n",
       "      <th>avg</th>\n",
       "    </tr>\n",
       "  </thead>\n",
       "  <tbody>\n",
       "    <tr>\n",
       "      <th>0</th>\n",
       "      <td>24.0</td>\n",
       "    </tr>\n",
       "  </tbody>\n",
       "</table>\n",
       "</div>"
      ],
      "text/plain": [
       "    avg\n",
       "0  24.0"
      ]
     },
     "execution_count": 25,
     "metadata": {},
     "output_type": "execute_result"
    }
   ],
   "source": [
    "query = '''SELECT AVG(review.review_count) AS avg\n",
    "FROM (SELECT COUNT(review_id) AS review_count\n",
    "FROM reviews\n",
    "WHERE username IN \n",
    "(SELECT username\n",
    "FROM ratings\n",
    "GROUP BY username\n",
    "HAVING COUNT(ratings) > 48)\n",
    "GROUP BY username) \n",
    "AS review;'''\n",
    "con=engine.connect()\n",
    "pd.io.sql.read_sql(sql=text(query), con = con)"
   ]
  },
  {
   "cell_type": "markdown",
   "metadata": {},
   "source": [
    "Среднее количество обзоров равняется 24"
   ]
  },
  {
   "cell_type": "markdown",
   "metadata": {},
   "source": [
    "### Общий вывод\n",
    "\n",
    "В хоже работы, было подсчитано, что 821 книга вышла после 1 января 2000 года; \n",
    "\n",
    "Для каждой книги подсчитали количество обзоров и среднюю оценку, где книга Twilight (Twilight #1) с самым большим количеством обзоров имеет среднюю оценку 3,66; \n",
    "\n",
    "Определили издательство, которое выпустило наибольшее число книг толще 50 страниц, это оказалось издетельсво Penguin Books; \n",
    "\n",
    "Определили автора с самой высокой средней оценкой книг, где наибольшую среднюю оценку 4.28 имеет автор J.K. Rowling/Mary GrandPré; \n",
    "\n",
    "Средее количество обзоров от пользователей, которые поставили больше 48 оценок, равняется 24."
   ]
  },
  {
   "cell_type": "code",
   "execution_count": null,
   "metadata": {},
   "outputs": [],
   "source": []
  }
 ],
 "metadata": {
  "ExecuteTimeLog": [
   {
    "duration": 2934,
    "start_time": "2024-02-22T14:57:26.534Z"
   },
   {
    "duration": 1589,
    "start_time": "2024-02-22T14:57:45.356Z"
   },
   {
    "duration": 3,
    "start_time": "2024-02-22T14:58:45.589Z"
   },
   {
    "duration": 3,
    "start_time": "2024-02-22T14:59:51.989Z"
   },
   {
    "duration": 11620,
    "start_time": "2024-02-22T15:00:11.901Z"
   },
   {
    "duration": 105,
    "start_time": "2024-02-22T15:01:48.191Z"
   },
   {
    "duration": 3,
    "start_time": "2024-02-22T15:02:42.124Z"
   },
   {
    "duration": 223,
    "start_time": "2024-02-22T15:03:36.880Z"
   },
   {
    "duration": 8,
    "start_time": "2024-02-22T15:03:45.944Z"
   },
   {
    "duration": 3,
    "start_time": "2024-02-22T15:04:21.657Z"
   },
   {
    "duration": 128,
    "start_time": "2024-02-22T15:04:23.506Z"
   },
   {
    "duration": 120,
    "start_time": "2024-02-22T15:06:41.467Z"
   },
   {
    "duration": 2,
    "start_time": "2024-02-22T15:07:30.204Z"
   },
   {
    "duration": 137,
    "start_time": "2024-02-22T15:07:39.987Z"
   },
   {
    "duration": 3,
    "start_time": "2024-02-22T15:13:09.889Z"
   },
   {
    "duration": 407,
    "start_time": "2024-02-22T15:13:23.912Z"
   },
   {
    "duration": 6,
    "start_time": "2024-02-22T15:13:32.008Z"
   },
   {
    "duration": 4,
    "start_time": "2024-02-22T15:16:36.434Z"
   },
   {
    "duration": 2,
    "start_time": "2024-02-22T15:16:37.211Z"
   },
   {
    "duration": 157,
    "start_time": "2024-02-22T15:16:37.827Z"
   },
   {
    "duration": 4,
    "start_time": "2024-02-22T15:19:30.940Z"
   },
   {
    "duration": 2,
    "start_time": "2024-02-22T15:19:31.518Z"
   },
   {
    "duration": 158,
    "start_time": "2024-02-22T15:19:33.309Z"
   },
   {
    "duration": 2609,
    "start_time": "2024-02-22T15:25:35.698Z"
   },
   {
    "duration": 1295,
    "start_time": "2024-02-22T15:25:38.309Z"
   },
   {
    "duration": 3,
    "start_time": "2024-02-22T15:25:39.606Z"
   },
   {
    "duration": 9,
    "start_time": "2024-02-22T15:25:39.611Z"
   },
   {
    "duration": 11506,
    "start_time": "2024-02-22T15:25:39.622Z"
   },
   {
    "duration": 2,
    "start_time": "2024-02-22T15:25:51.130Z"
   },
   {
    "duration": 262,
    "start_time": "2024-02-22T15:25:51.134Z"
   },
   {
    "duration": 0,
    "start_time": "2024-02-22T15:25:51.397Z"
   },
   {
    "duration": 0,
    "start_time": "2024-02-22T15:25:51.399Z"
   },
   {
    "duration": 0,
    "start_time": "2024-02-22T15:25:51.401Z"
   },
   {
    "duration": 0,
    "start_time": "2024-02-22T15:25:51.402Z"
   },
   {
    "duration": 0,
    "start_time": "2024-02-22T15:25:51.404Z"
   },
   {
    "duration": 0,
    "start_time": "2024-02-22T15:25:51.405Z"
   },
   {
    "duration": 518,
    "start_time": "2024-02-22T15:27:59.938Z"
   },
   {
    "duration": 3,
    "start_time": "2024-02-22T15:28:00.458Z"
   },
   {
    "duration": 11117,
    "start_time": "2024-02-22T15:28:00.463Z"
   },
   {
    "duration": 57,
    "start_time": "2024-02-22T15:28:11.582Z"
   },
   {
    "duration": 47,
    "start_time": "2024-02-22T15:30:17.592Z"
   },
   {
    "duration": 31,
    "start_time": "2024-02-22T15:32:15.877Z"
   },
   {
    "duration": 14,
    "start_time": "2024-02-22T15:39:52.237Z"
   },
   {
    "duration": 17,
    "start_time": "2024-02-22T15:41:25.214Z"
   },
   {
    "duration": 15,
    "start_time": "2024-02-22T15:43:16.204Z"
   },
   {
    "duration": 487,
    "start_time": "2024-02-23T10:14:37.933Z"
   },
   {
    "duration": 3,
    "start_time": "2024-02-23T10:14:38.422Z"
   },
   {
    "duration": 7860,
    "start_time": "2024-02-23T10:14:38.426Z"
   },
   {
    "duration": 214,
    "start_time": "2024-02-23T10:14:46.288Z"
   },
   {
    "duration": 163,
    "start_time": "2024-02-23T10:14:46.504Z"
   },
   {
    "duration": 52,
    "start_time": "2024-02-23T10:14:46.669Z"
   },
   {
    "duration": 56,
    "start_time": "2024-02-23T10:14:46.723Z"
   },
   {
    "duration": 54,
    "start_time": "2024-02-23T10:14:46.780Z"
   },
   {
    "duration": 49,
    "start_time": "2024-02-23T10:18:14.398Z"
   },
   {
    "duration": 55,
    "start_time": "2024-02-23T10:21:12.595Z"
   },
   {
    "duration": 132,
    "start_time": "2024-02-23T10:23:02.110Z"
   },
   {
    "duration": 38,
    "start_time": "2024-02-23T10:23:12.654Z"
   },
   {
    "duration": 124,
    "start_time": "2024-02-23T10:23:21.346Z"
   },
   {
    "duration": 62,
    "start_time": "2024-02-23T10:23:47.902Z"
   },
   {
    "duration": 72,
    "start_time": "2024-02-23T10:24:05.855Z"
   },
   {
    "duration": 51,
    "start_time": "2024-02-23T10:31:55.181Z"
   },
   {
    "duration": 53,
    "start_time": "2024-02-23T10:31:55.824Z"
   },
   {
    "duration": 51,
    "start_time": "2024-02-23T10:31:56.400Z"
   },
   {
    "duration": 218,
    "start_time": "2024-02-23T10:38:33.547Z"
   },
   {
    "duration": 203,
    "start_time": "2024-02-23T10:44:27.884Z"
   },
   {
    "duration": 70,
    "start_time": "2024-02-23T10:47:00.998Z"
   },
   {
    "duration": 77,
    "start_time": "2024-02-23T10:48:48.465Z"
   },
   {
    "duration": 128,
    "start_time": "2024-02-23T11:34:57.969Z"
   },
   {
    "duration": 50,
    "start_time": "2024-02-23T11:34:58.729Z"
   },
   {
    "duration": 63,
    "start_time": "2024-02-23T11:44:26.000Z"
   },
   {
    "duration": 71,
    "start_time": "2024-02-23T11:46:37.383Z"
   },
   {
    "duration": 46,
    "start_time": "2024-02-23T11:46:49.284Z"
   },
   {
    "duration": 132,
    "start_time": "2024-02-23T11:47:14.959Z"
   },
   {
    "duration": 49,
    "start_time": "2024-02-23T11:54:42.833Z"
   },
   {
    "duration": 51,
    "start_time": "2024-02-23T11:54:43.349Z"
   },
   {
    "duration": 50,
    "start_time": "2024-02-23T11:54:45.476Z"
   },
   {
    "duration": 71,
    "start_time": "2024-02-23T12:01:01.908Z"
   },
   {
    "duration": 59,
    "start_time": "2024-02-23T12:02:16.373Z"
   },
   {
    "duration": 156,
    "start_time": "2024-02-23T12:03:09.683Z"
   },
   {
    "duration": 131,
    "start_time": "2024-02-23T12:19:07.178Z"
   },
   {
    "duration": 168,
    "start_time": "2024-02-23T12:24:01.522Z"
   },
   {
    "duration": 75,
    "start_time": "2024-02-23T12:31:28.772Z"
   },
   {
    "duration": 60,
    "start_time": "2024-02-23T12:32:18.534Z"
   },
   {
    "duration": 47,
    "start_time": "2024-02-23T12:32:46.562Z"
   },
   {
    "duration": 56,
    "start_time": "2024-02-23T12:34:06.544Z"
   },
   {
    "duration": 57,
    "start_time": "2024-02-23T12:35:56.429Z"
   },
   {
    "duration": 55,
    "start_time": "2024-02-23T12:36:07.141Z"
   },
   {
    "duration": 57,
    "start_time": "2024-02-23T12:36:15.349Z"
   },
   {
    "duration": 56,
    "start_time": "2024-02-23T12:36:50.413Z"
   },
   {
    "duration": 55,
    "start_time": "2024-02-23T12:37:08.950Z"
   },
   {
    "duration": 52,
    "start_time": "2024-02-23T12:41:24.474Z"
   },
   {
    "duration": 53,
    "start_time": "2024-02-23T12:42:32.307Z"
   },
   {
    "duration": 54,
    "start_time": "2024-02-23T12:42:39.795Z"
   },
   {
    "duration": 53,
    "start_time": "2024-02-23T12:42:43.835Z"
   },
   {
    "duration": 54,
    "start_time": "2024-02-23T12:42:47.658Z"
   },
   {
    "duration": 48,
    "start_time": "2024-02-24T11:41:33.590Z"
   },
   {
    "duration": 54,
    "start_time": "2024-02-24T11:41:42.309Z"
   },
   {
    "duration": 55,
    "start_time": "2024-02-24T11:42:21.601Z"
   },
   {
    "duration": 59,
    "start_time": "2024-02-24T11:44:56.035Z"
   },
   {
    "duration": 132,
    "start_time": "2024-02-24T11:45:03.936Z"
   },
   {
    "duration": 521,
    "start_time": "2024-02-25T10:26:27.495Z"
   },
   {
    "duration": 3,
    "start_time": "2024-02-25T10:26:28.017Z"
   },
   {
    "duration": 7807,
    "start_time": "2024-02-25T10:26:28.022Z"
   },
   {
    "duration": 222,
    "start_time": "2024-02-25T10:26:35.831Z"
   },
   {
    "duration": 137,
    "start_time": "2024-02-25T10:26:36.054Z"
   },
   {
    "duration": 49,
    "start_time": "2024-02-25T10:26:36.193Z"
   },
   {
    "duration": 52,
    "start_time": "2024-02-25T10:26:36.243Z"
   },
   {
    "duration": 52,
    "start_time": "2024-02-25T10:26:36.297Z"
   },
   {
    "duration": 51,
    "start_time": "2024-02-25T10:26:36.351Z"
   },
   {
    "duration": 199,
    "start_time": "2024-02-25T10:26:36.406Z"
   },
   {
    "duration": 77,
    "start_time": "2024-02-25T10:26:36.607Z"
   },
   {
    "duration": 52,
    "start_time": "2024-02-25T10:26:36.685Z"
   },
   {
    "duration": 49,
    "start_time": "2024-02-25T10:26:36.739Z"
   },
   {
    "duration": 52,
    "start_time": "2024-02-25T10:26:36.790Z"
   },
   {
    "duration": 90,
    "start_time": "2024-02-25T10:26:36.844Z"
   },
   {
    "duration": 0,
    "start_time": "2024-02-25T10:26:36.936Z"
   },
   {
    "duration": 0,
    "start_time": "2024-02-25T10:26:36.937Z"
   },
   {
    "duration": 0,
    "start_time": "2024-02-25T10:26:36.938Z"
   },
   {
    "duration": 0,
    "start_time": "2024-02-25T10:26:36.940Z"
   },
   {
    "duration": 0,
    "start_time": "2024-02-25T10:26:36.941Z"
   },
   {
    "duration": 0,
    "start_time": "2024-02-25T10:26:36.942Z"
   },
   {
    "duration": 0,
    "start_time": "2024-02-25T10:26:36.943Z"
   },
   {
    "duration": 0,
    "start_time": "2024-02-25T10:26:36.944Z"
   },
   {
    "duration": 0,
    "start_time": "2024-02-25T10:26:36.945Z"
   },
   {
    "duration": 0,
    "start_time": "2024-02-25T10:26:36.946Z"
   },
   {
    "duration": 0,
    "start_time": "2024-02-25T10:26:36.947Z"
   },
   {
    "duration": 540,
    "start_time": "2024-02-25T10:30:05.327Z"
   },
   {
    "duration": 4,
    "start_time": "2024-02-25T10:30:05.869Z"
   },
   {
    "duration": 8597,
    "start_time": "2024-02-25T10:30:05.874Z"
   },
   {
    "duration": 214,
    "start_time": "2024-02-25T10:30:14.473Z"
   },
   {
    "duration": 147,
    "start_time": "2024-02-25T10:30:14.689Z"
   },
   {
    "duration": 51,
    "start_time": "2024-02-25T10:30:14.838Z"
   },
   {
    "duration": 58,
    "start_time": "2024-02-25T10:30:14.891Z"
   },
   {
    "duration": 54,
    "start_time": "2024-02-25T10:30:14.951Z"
   },
   {
    "duration": 52,
    "start_time": "2024-02-25T10:30:15.007Z"
   },
   {
    "duration": 227,
    "start_time": "2024-02-25T10:30:15.061Z"
   },
   {
    "duration": 77,
    "start_time": "2024-02-25T10:30:15.289Z"
   },
   {
    "duration": 53,
    "start_time": "2024-02-25T10:30:15.367Z"
   },
   {
    "duration": 51,
    "start_time": "2024-02-25T10:30:15.422Z"
   },
   {
    "duration": 54,
    "start_time": "2024-02-25T10:30:15.477Z"
   },
   {
    "duration": 59,
    "start_time": "2024-02-25T10:30:15.533Z"
   },
   {
    "duration": 55,
    "start_time": "2024-02-25T10:30:15.593Z"
   },
   {
    "duration": 53,
    "start_time": "2024-02-25T10:30:15.650Z"
   },
   {
    "duration": 53,
    "start_time": "2024-02-25T10:30:15.705Z"
   },
   {
    "duration": 51,
    "start_time": "2024-02-25T10:30:15.760Z"
   },
   {
    "duration": 64,
    "start_time": "2024-02-25T10:30:15.813Z"
   },
   {
    "duration": 56,
    "start_time": "2024-02-25T10:30:15.879Z"
   },
   {
    "duration": 54,
    "start_time": "2024-02-25T10:30:15.936Z"
   },
   {
    "duration": 51,
    "start_time": "2024-02-25T10:30:15.992Z"
   },
   {
    "duration": 52,
    "start_time": "2024-02-25T10:30:16.045Z"
   },
   {
    "duration": 52,
    "start_time": "2024-02-25T10:30:16.099Z"
   },
   {
    "duration": 557,
    "start_time": "2024-02-25T11:07:31.353Z"
   },
   {
    "duration": 3,
    "start_time": "2024-02-25T11:07:31.912Z"
   },
   {
    "duration": 11040,
    "start_time": "2024-02-25T11:07:31.916Z"
   },
   {
    "duration": 49,
    "start_time": "2024-02-25T11:07:42.959Z"
   },
   {
    "duration": 41,
    "start_time": "2024-02-25T11:07:43.011Z"
   },
   {
    "duration": 10,
    "start_time": "2024-02-25T11:07:43.054Z"
   },
   {
    "duration": 15,
    "start_time": "2024-02-25T11:07:43.065Z"
   },
   {
    "duration": 15,
    "start_time": "2024-02-25T11:07:43.082Z"
   },
   {
    "duration": 11,
    "start_time": "2024-02-25T11:07:43.099Z"
   },
   {
    "duration": 124,
    "start_time": "2024-02-25T11:07:43.112Z"
   },
   {
    "duration": 29,
    "start_time": "2024-02-25T11:07:43.237Z"
   },
   {
    "duration": 15,
    "start_time": "2024-02-25T11:07:43.267Z"
   },
   {
    "duration": 11,
    "start_time": "2024-02-25T11:07:43.284Z"
   },
   {
    "duration": 18,
    "start_time": "2024-02-25T11:07:43.297Z"
   },
   {
    "duration": 20,
    "start_time": "2024-02-25T11:07:43.316Z"
   },
   {
    "duration": 36,
    "start_time": "2024-02-25T11:07:43.338Z"
   },
   {
    "duration": 14,
    "start_time": "2024-02-25T11:07:43.375Z"
   },
   {
    "duration": 16,
    "start_time": "2024-02-25T11:07:43.390Z"
   },
   {
    "duration": 13,
    "start_time": "2024-02-25T11:07:43.408Z"
   },
   {
    "duration": 27,
    "start_time": "2024-02-25T11:07:43.422Z"
   },
   {
    "duration": 17,
    "start_time": "2024-02-25T11:07:43.473Z"
   },
   {
    "duration": 17,
    "start_time": "2024-02-25T11:07:43.492Z"
   },
   {
    "duration": 15,
    "start_time": "2024-02-25T11:07:43.510Z"
   },
   {
    "duration": 19,
    "start_time": "2024-02-25T11:07:43.526Z"
   },
   {
    "duration": 14,
    "start_time": "2024-02-25T11:07:43.546Z"
   },
   {
    "duration": 21,
    "start_time": "2024-02-25T11:08:09.173Z"
   },
   {
    "duration": 13,
    "start_time": "2024-02-25T11:08:54.720Z"
   },
   {
    "duration": 29,
    "start_time": "2024-02-25T11:11:35.856Z"
   },
   {
    "duration": 88,
    "start_time": "2024-02-25T11:12:05.392Z"
   },
   {
    "duration": 20,
    "start_time": "2024-02-25T11:12:42.417Z"
   },
   {
    "duration": 656,
    "start_time": "2024-02-25T11:13:23.451Z"
   },
   {
    "duration": 5,
    "start_time": "2024-02-25T11:13:24.109Z"
   },
   {
    "duration": 10945,
    "start_time": "2024-02-25T11:13:24.116Z"
   },
   {
    "duration": 56,
    "start_time": "2024-02-25T11:13:35.063Z"
   },
   {
    "duration": 49,
    "start_time": "2024-02-25T11:13:35.122Z"
   },
   {
    "duration": 10,
    "start_time": "2024-02-25T11:13:35.173Z"
   },
   {
    "duration": 4,
    "start_time": "2024-02-25T11:13:35.185Z"
   },
   {
    "duration": 15,
    "start_time": "2024-02-25T11:13:35.191Z"
   },
   {
    "duration": 13,
    "start_time": "2024-02-25T11:13:35.208Z"
   },
   {
    "duration": 18,
    "start_time": "2024-02-25T11:13:35.223Z"
   },
   {
    "duration": 139,
    "start_time": "2024-02-25T11:13:35.243Z"
   },
   {
    "duration": 29,
    "start_time": "2024-02-25T11:13:35.384Z"
   },
   {
    "duration": 13,
    "start_time": "2024-02-25T11:13:35.414Z"
   },
   {
    "duration": 34,
    "start_time": "2024-02-25T11:13:35.430Z"
   },
   {
    "duration": 15,
    "start_time": "2024-02-25T11:13:35.466Z"
   },
   {
    "duration": 16,
    "start_time": "2024-02-25T11:13:35.482Z"
   },
   {
    "duration": 13,
    "start_time": "2024-02-25T11:13:35.500Z"
   },
   {
    "duration": 11,
    "start_time": "2024-02-25T11:13:35.515Z"
   },
   {
    "duration": 12,
    "start_time": "2024-02-25T11:13:35.528Z"
   },
   {
    "duration": 39,
    "start_time": "2024-02-25T11:13:35.542Z"
   },
   {
    "duration": 45,
    "start_time": "2024-02-25T11:13:35.584Z"
   },
   {
    "duration": 100,
    "start_time": "2024-02-25T11:13:35.631Z"
   },
   {
    "duration": 0,
    "start_time": "2024-02-25T11:13:35.733Z"
   },
   {
    "duration": 0,
    "start_time": "2024-02-25T11:13:35.734Z"
   },
   {
    "duration": 0,
    "start_time": "2024-02-25T11:13:35.735Z"
   },
   {
    "duration": 0,
    "start_time": "2024-02-25T11:13:35.736Z"
   },
   {
    "duration": 583,
    "start_time": "2024-02-25T11:14:50.149Z"
   },
   {
    "duration": 3,
    "start_time": "2024-02-25T11:14:50.734Z"
   },
   {
    "duration": 10744,
    "start_time": "2024-02-25T11:14:50.739Z"
   },
   {
    "duration": 48,
    "start_time": "2024-02-25T11:15:01.484Z"
   },
   {
    "duration": 37,
    "start_time": "2024-02-25T11:15:01.534Z"
   },
   {
    "duration": 32,
    "start_time": "2024-02-25T11:15:01.573Z"
   },
   {
    "duration": 52,
    "start_time": "2024-02-25T11:15:01.607Z"
   },
   {
    "duration": 76,
    "start_time": "2024-02-25T11:15:01.661Z"
   },
   {
    "duration": 45,
    "start_time": "2024-02-25T11:15:01.739Z"
   },
   {
    "duration": 47,
    "start_time": "2024-02-25T11:15:01.786Z"
   },
   {
    "duration": 151,
    "start_time": "2024-02-25T11:15:01.835Z"
   },
   {
    "duration": 28,
    "start_time": "2024-02-25T11:15:01.988Z"
   },
   {
    "duration": 17,
    "start_time": "2024-02-25T11:15:02.018Z"
   },
   {
    "duration": 31,
    "start_time": "2024-02-25T11:15:02.037Z"
   },
   {
    "duration": 24,
    "start_time": "2024-02-25T11:15:02.070Z"
   },
   {
    "duration": 23,
    "start_time": "2024-02-25T11:15:02.096Z"
   },
   {
    "duration": 14,
    "start_time": "2024-02-25T11:15:02.120Z"
   },
   {
    "duration": 44,
    "start_time": "2024-02-25T11:15:02.136Z"
   },
   {
    "duration": 34,
    "start_time": "2024-02-25T11:15:02.182Z"
   },
   {
    "duration": 44,
    "start_time": "2024-02-25T11:15:02.217Z"
   },
   {
    "duration": 30,
    "start_time": "2024-02-25T11:15:02.263Z"
   },
   {
    "duration": 100,
    "start_time": "2024-02-25T11:15:02.294Z"
   },
   {
    "duration": 0,
    "start_time": "2024-02-25T11:15:02.396Z"
   },
   {
    "duration": 0,
    "start_time": "2024-02-25T11:15:02.397Z"
   },
   {
    "duration": 0,
    "start_time": "2024-02-25T11:15:02.398Z"
   },
   {
    "duration": 0,
    "start_time": "2024-02-25T11:15:02.399Z"
   },
   {
    "duration": 21,
    "start_time": "2024-02-25T11:15:31.051Z"
   },
   {
    "duration": 44,
    "start_time": "2024-02-25T11:15:52.004Z"
   },
   {
    "duration": 53,
    "start_time": "2024-02-25T11:16:39.924Z"
   },
   {
    "duration": 20,
    "start_time": "2024-02-25T11:16:51.204Z"
   },
   {
    "duration": 62,
    "start_time": "2024-02-25T11:17:29.972Z"
   },
   {
    "duration": 57,
    "start_time": "2024-02-25T11:17:37.484Z"
   },
   {
    "duration": 20,
    "start_time": "2024-02-25T11:21:28.048Z"
   },
   {
    "duration": 28,
    "start_time": "2024-02-25T11:21:48.688Z"
   },
   {
    "duration": 21,
    "start_time": "2024-02-25T11:22:01.512Z"
   },
   {
    "duration": 17,
    "start_time": "2024-02-25T11:23:21.194Z"
   },
   {
    "duration": 60,
    "start_time": "2024-02-25T11:25:11.599Z"
   },
   {
    "duration": 35,
    "start_time": "2024-02-25T11:25:33.763Z"
   },
   {
    "duration": 20,
    "start_time": "2024-02-25T11:26:34.413Z"
   },
   {
    "duration": 20,
    "start_time": "2024-02-25T11:26:59.437Z"
   },
   {
    "duration": 19,
    "start_time": "2024-02-25T11:27:26.237Z"
   },
   {
    "duration": 37,
    "start_time": "2024-02-25T11:28:28.837Z"
   },
   {
    "duration": 29,
    "start_time": "2024-02-25T11:29:58.044Z"
   },
   {
    "duration": 22,
    "start_time": "2024-02-25T11:30:16.631Z"
   },
   {
    "duration": 17,
    "start_time": "2024-02-25T11:30:27.599Z"
   },
   {
    "duration": 36,
    "start_time": "2024-02-25T11:31:51.369Z"
   },
   {
    "duration": 21,
    "start_time": "2024-02-25T11:32:36.132Z"
   },
   {
    "duration": 22,
    "start_time": "2024-02-25T11:33:30.067Z"
   },
   {
    "duration": 21,
    "start_time": "2024-02-25T11:33:46.267Z"
   },
   {
    "duration": 19,
    "start_time": "2024-02-25T11:34:22.323Z"
   },
   {
    "duration": 139,
    "start_time": "2024-02-25T11:36:59.237Z"
   },
   {
    "duration": 117,
    "start_time": "2024-02-25T11:39:24.172Z"
   },
   {
    "duration": 601,
    "start_time": "2024-02-25T11:40:16.564Z"
   },
   {
    "duration": 6,
    "start_time": "2024-02-25T11:40:17.167Z"
   },
   {
    "duration": 11111,
    "start_time": "2024-02-25T11:40:17.175Z"
   },
   {
    "duration": 58,
    "start_time": "2024-02-25T11:40:28.287Z"
   },
   {
    "duration": 41,
    "start_time": "2024-02-25T11:40:28.348Z"
   },
   {
    "duration": 11,
    "start_time": "2024-02-25T11:40:28.390Z"
   },
   {
    "duration": 13,
    "start_time": "2024-02-25T11:40:28.402Z"
   },
   {
    "duration": 16,
    "start_time": "2024-02-25T11:40:28.417Z"
   },
   {
    "duration": 16,
    "start_time": "2024-02-25T11:40:28.435Z"
   },
   {
    "duration": 148,
    "start_time": "2024-02-25T11:40:28.472Z"
   },
   {
    "duration": 30,
    "start_time": "2024-02-25T11:40:28.622Z"
   },
   {
    "duration": 13,
    "start_time": "2024-02-25T11:40:28.655Z"
   },
   {
    "duration": 13,
    "start_time": "2024-02-25T11:40:28.672Z"
   },
   {
    "duration": 16,
    "start_time": "2024-02-25T11:40:28.688Z"
   },
   {
    "duration": 14,
    "start_time": "2024-02-25T11:40:28.705Z"
   },
   {
    "duration": 11,
    "start_time": "2024-02-25T11:40:28.721Z"
   },
   {
    "duration": 9,
    "start_time": "2024-02-25T11:40:28.734Z"
   },
   {
    "duration": 36,
    "start_time": "2024-02-25T11:40:28.745Z"
   },
   {
    "duration": 11,
    "start_time": "2024-02-25T11:40:28.783Z"
   },
   {
    "duration": 44,
    "start_time": "2024-02-25T11:40:28.795Z"
   },
   {
    "duration": 38,
    "start_time": "2024-02-25T11:40:28.842Z"
   },
   {
    "duration": 21,
    "start_time": "2024-02-25T11:40:28.882Z"
   },
   {
    "duration": 16,
    "start_time": "2024-02-25T11:40:28.904Z"
   },
   {
    "duration": 14,
    "start_time": "2024-02-25T11:40:28.922Z"
   },
   {
    "duration": 14,
    "start_time": "2024-02-25T11:40:28.938Z"
   },
   {
    "duration": 523,
    "start_time": "2024-02-25T12:04:15.124Z"
   },
   {
    "duration": 3,
    "start_time": "2024-02-25T12:04:15.650Z"
   },
   {
    "duration": 10909,
    "start_time": "2024-02-25T12:04:15.654Z"
   },
   {
    "duration": 50,
    "start_time": "2024-02-25T12:04:26.564Z"
   },
   {
    "duration": 40,
    "start_time": "2024-02-25T12:04:26.617Z"
   },
   {
    "duration": 10,
    "start_time": "2024-02-25T12:04:26.659Z"
   },
   {
    "duration": 20,
    "start_time": "2024-02-25T12:04:26.671Z"
   },
   {
    "duration": 26,
    "start_time": "2024-02-25T12:04:26.693Z"
   },
   {
    "duration": 18,
    "start_time": "2024-02-25T12:04:26.721Z"
   },
   {
    "duration": 143,
    "start_time": "2024-02-25T12:04:26.741Z"
   },
   {
    "duration": 27,
    "start_time": "2024-02-25T12:04:26.885Z"
   },
   {
    "duration": 12,
    "start_time": "2024-02-25T12:04:26.914Z"
   },
   {
    "duration": 23,
    "start_time": "2024-02-25T12:04:26.927Z"
   },
   {
    "duration": 15,
    "start_time": "2024-02-25T12:04:26.952Z"
   },
   {
    "duration": 21,
    "start_time": "2024-02-25T12:04:26.968Z"
   },
   {
    "duration": 11,
    "start_time": "2024-02-25T12:04:26.991Z"
   },
   {
    "duration": 21,
    "start_time": "2024-02-25T12:04:27.003Z"
   },
   {
    "duration": 25,
    "start_time": "2024-02-25T12:04:27.026Z"
   },
   {
    "duration": 12,
    "start_time": "2024-02-25T12:04:27.053Z"
   },
   {
    "duration": 40,
    "start_time": "2024-02-25T12:04:27.067Z"
   },
   {
    "duration": 19,
    "start_time": "2024-02-25T12:04:27.109Z"
   },
   {
    "duration": 17,
    "start_time": "2024-02-25T12:04:27.130Z"
   },
   {
    "duration": 14,
    "start_time": "2024-02-25T12:04:27.149Z"
   },
   {
    "duration": 20,
    "start_time": "2024-02-25T12:04:27.165Z"
   },
   {
    "duration": 15,
    "start_time": "2024-02-25T12:04:27.186Z"
   },
   {
    "duration": 32,
    "start_time": "2024-02-25T13:58:31.357Z"
   },
   {
    "duration": 100,
    "start_time": "2024-02-25T13:58:55.578Z"
   },
   {
    "duration": 19,
    "start_time": "2024-02-25T13:59:35.966Z"
   },
   {
    "duration": 62,
    "start_time": "2024-02-25T14:01:25.539Z"
   },
   {
    "duration": 18,
    "start_time": "2024-02-25T14:01:31.084Z"
   },
   {
    "duration": 50,
    "start_time": "2024-02-25T14:03:10.501Z"
   },
   {
    "duration": 22,
    "start_time": "2024-02-25T14:03:21.213Z"
   },
   {
    "duration": 18,
    "start_time": "2024-02-25T14:04:08.694Z"
   },
   {
    "duration": 29,
    "start_time": "2024-02-25T14:13:04.638Z"
   },
   {
    "duration": 18,
    "start_time": "2024-02-25T14:14:17.774Z"
   },
   {
    "duration": 19,
    "start_time": "2024-02-25T14:16:02.669Z"
   },
   {
    "duration": 26,
    "start_time": "2024-02-25T14:18:57.095Z"
   },
   {
    "duration": 19,
    "start_time": "2024-02-25T14:19:58.873Z"
   },
   {
    "duration": 38,
    "start_time": "2024-02-25T14:22:35.906Z"
   },
   {
    "duration": 20,
    "start_time": "2024-02-25T14:25:41.600Z"
   },
   {
    "duration": 32,
    "start_time": "2024-02-25T14:26:01.538Z"
   },
   {
    "duration": 18,
    "start_time": "2024-02-25T14:26:09.858Z"
   },
   {
    "duration": 19,
    "start_time": "2024-02-25T14:26:32.129Z"
   },
   {
    "duration": 22,
    "start_time": "2024-02-25T14:27:29.322Z"
   },
   {
    "duration": 23,
    "start_time": "2024-02-25T14:28:43.467Z"
   },
   {
    "duration": 31,
    "start_time": "2024-02-25T14:28:49.907Z"
   },
   {
    "duration": 28,
    "start_time": "2024-02-25T14:29:10.661Z"
   },
   {
    "duration": 58,
    "start_time": "2024-02-25T14:29:29.567Z"
   },
   {
    "duration": 522,
    "start_time": "2024-02-25T14:30:07.934Z"
   },
   {
    "duration": 3,
    "start_time": "2024-02-25T14:30:08.458Z"
   },
   {
    "duration": 11233,
    "start_time": "2024-02-25T14:30:08.463Z"
   },
   {
    "duration": 49,
    "start_time": "2024-02-25T14:30:19.698Z"
   },
   {
    "duration": 40,
    "start_time": "2024-02-25T14:30:19.749Z"
   },
   {
    "duration": 10,
    "start_time": "2024-02-25T14:30:19.791Z"
   },
   {
    "duration": 14,
    "start_time": "2024-02-25T14:30:19.803Z"
   },
   {
    "duration": 12,
    "start_time": "2024-02-25T14:30:19.818Z"
   },
   {
    "duration": 12,
    "start_time": "2024-02-25T14:30:19.832Z"
   },
   {
    "duration": 143,
    "start_time": "2024-02-25T14:30:19.845Z"
   },
   {
    "duration": 30,
    "start_time": "2024-02-25T14:30:19.990Z"
   },
   {
    "duration": 13,
    "start_time": "2024-02-25T14:30:20.021Z"
   },
   {
    "duration": 11,
    "start_time": "2024-02-25T14:30:20.036Z"
   },
   {
    "duration": 23,
    "start_time": "2024-02-25T14:30:20.050Z"
   },
   {
    "duration": 17,
    "start_time": "2024-02-25T14:30:20.075Z"
   },
   {
    "duration": 14,
    "start_time": "2024-02-25T14:30:20.094Z"
   },
   {
    "duration": 33,
    "start_time": "2024-02-25T14:30:20.110Z"
   },
   {
    "duration": 13,
    "start_time": "2024-02-25T14:30:20.144Z"
   },
   {
    "duration": 23,
    "start_time": "2024-02-25T14:30:20.159Z"
   },
   {
    "duration": 36,
    "start_time": "2024-02-25T14:30:20.184Z"
   },
   {
    "duration": 18,
    "start_time": "2024-02-25T14:30:20.222Z"
   },
   {
    "duration": 17,
    "start_time": "2024-02-25T14:30:20.241Z"
   },
   {
    "duration": 14,
    "start_time": "2024-02-25T14:30:20.273Z"
   },
   {
    "duration": 13,
    "start_time": "2024-02-25T14:30:20.288Z"
   },
   {
    "duration": 15,
    "start_time": "2024-02-25T14:30:20.302Z"
   },
   {
    "duration": 15,
    "start_time": "2024-02-25T14:30:20.318Z"
   },
   {
    "duration": 574,
    "start_time": "2024-02-25T14:31:08.554Z"
   },
   {
    "duration": 16,
    "start_time": "2024-02-25T14:31:09.130Z"
   },
   {
    "duration": 11035,
    "start_time": "2024-02-25T14:31:09.149Z"
   },
   {
    "duration": 49,
    "start_time": "2024-02-25T14:31:20.185Z"
   },
   {
    "duration": 33,
    "start_time": "2024-02-25T14:31:20.236Z"
   },
   {
    "duration": 10,
    "start_time": "2024-02-25T14:31:20.271Z"
   },
   {
    "duration": 16,
    "start_time": "2024-02-25T14:31:20.282Z"
   },
   {
    "duration": 19,
    "start_time": "2024-02-25T14:31:20.299Z"
   },
   {
    "duration": 14,
    "start_time": "2024-02-25T14:31:20.320Z"
   },
   {
    "duration": 146,
    "start_time": "2024-02-25T14:31:20.336Z"
   },
   {
    "duration": 28,
    "start_time": "2024-02-25T14:31:20.484Z"
   },
   {
    "duration": 12,
    "start_time": "2024-02-25T14:31:20.514Z"
   },
   {
    "duration": 10,
    "start_time": "2024-02-25T14:31:20.527Z"
   },
   {
    "duration": 14,
    "start_time": "2024-02-25T14:31:20.540Z"
   },
   {
    "duration": 26,
    "start_time": "2024-02-25T14:31:20.556Z"
   },
   {
    "duration": 12,
    "start_time": "2024-02-25T14:31:20.583Z"
   },
   {
    "duration": 10,
    "start_time": "2024-02-25T14:31:20.596Z"
   },
   {
    "duration": 12,
    "start_time": "2024-02-25T14:31:20.607Z"
   },
   {
    "duration": 12,
    "start_time": "2024-02-25T14:31:20.621Z"
   },
   {
    "duration": 54,
    "start_time": "2024-02-25T14:31:20.635Z"
   },
   {
    "duration": 19,
    "start_time": "2024-02-25T14:31:20.691Z"
   },
   {
    "duration": 17,
    "start_time": "2024-02-25T14:31:20.712Z"
   },
   {
    "duration": 21,
    "start_time": "2024-02-25T14:31:20.731Z"
   },
   {
    "duration": 14,
    "start_time": "2024-02-25T14:31:20.754Z"
   },
   {
    "duration": 24,
    "start_time": "2024-02-25T14:31:20.772Z"
   }
  ],
  "kernelspec": {
   "display_name": "Python 3 (ipykernel)",
   "language": "python",
   "name": "python3"
  },
  "language_info": {
   "codemirror_mode": {
    "name": "ipython",
    "version": 3
   },
   "file_extension": ".py",
   "mimetype": "text/x-python",
   "name": "python",
   "nbconvert_exporter": "python",
   "pygments_lexer": "ipython3",
   "version": "3.9.5"
  },
  "toc": {
   "base_numbering": 1,
   "nav_menu": {},
   "number_sections": true,
   "sideBar": true,
   "skip_h1_title": true,
   "title_cell": "Table of Contents",
   "title_sidebar": "Contents",
   "toc_cell": false,
   "toc_position": {
    "height": "calc(100% - 180px)",
    "left": "10px",
    "top": "150px",
    "width": "165px"
   },
   "toc_section_display": true,
   "toc_window_display": true
  }
 },
 "nbformat": 4,
 "nbformat_minor": 2
}
